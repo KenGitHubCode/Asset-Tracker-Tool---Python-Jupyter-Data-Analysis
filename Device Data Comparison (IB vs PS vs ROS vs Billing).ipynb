{
 "cells": [
  {
   "cell_type": "markdown",
   "metadata": {},
   "source": [
    "# Comparison Tool - MFD/Printer Data Among Toshiba Databases"
   ]
  },
  {
   "cell_type": "markdown",
   "metadata": {},
   "source": [
    "## Overview"
   ]
  },
  {
   "cell_type": "markdown",
   "metadata": {},
   "source": [
    "- This tool compares data exports from the following databases / files.\n",
    "\n",
    " - Install Base\n",
    " - PageSmart\n",
    " - Project Rollout Schedule(s)\n",
    " - FSM Billing File\n",
    " \n",
    "- Functions:\n",
    " - Phase 1: [current] Compare databases 1-to-1 to identify missing devices.\n",
    " - Phase 2: Data accuracy \n",
    " - Phase 3: Predictive corrections"
   ]
  },
  {
   "cell_type": "markdown",
   "metadata": {},
   "source": [
    "## Identify Data Files and Global Variables "
   ]
  },
  {
   "cell_type": "code",
   "execution_count": 40,
   "metadata": {},
   "outputs": [
    {
     "name": "stdout",
     "output_type": "stream",
     "text": [
      "I did the thing!\n"
     ]
    }
   ],
   "source": [
    "import unicodecsv\n",
    "\n",
    "#####################################\n",
    "#               Formatting for comparison ease of read\n",
    "#####################################\n",
    "class color:\n",
    "   PURPLE = '\\033[95m'\n",
    "   CYAN = '\\033[96m'\n",
    "   DARKCYAN = '\\033[36m'\n",
    "   BLUE = '\\033[94m'\n",
    "   GREEN = '\\033[92m'\n",
    "   YELLOW = '\\033[93m'\n",
    "   RED = '\\033[91m'\n",
    "   BOLD = '\\033[1m'\n",
    "   UNDERLINE = '\\033[4m'\n",
    "   END = '\\033[0m'\n",
    "\n",
    "#####################################\n",
    "#               Convert Excel to csv (.xlsx - data must be on Sheet1)\n",
    "#####################################\n",
    "import xlrd\n",
    "import csv\n",
    "\n",
    "def csv_from_excel(file1, new_file_name):\n",
    "    wb = xlrd.open_workbook(file1)\n",
    "    sh = wb.sheet_by_name('Sheet1')\n",
    "    your_csv_file = open(new_file_name, 'w')\n",
    "    wr = csv.writer(your_csv_file, quoting=csv.QUOTE_ALL)\n",
    "\n",
    "    for rownum in range(sh.nrows):\n",
    "        wr.writerow(sh.row_values(rownum))\n",
    "\n",
    "    your_csv_file.close()\n",
    "\n",
    "# runs the csv_from_excel function:\n",
    "#csv_from_excel('MGM IB.xlsx', \"MGM IB.csv\")\n",
    "\n",
    "#####################################\n",
    "#       WHICH FILES ARE WE LOOKING AT?\n",
    "#####################################\n",
    "\n",
    "#Typically Install Base or Oracle\n",
    "src1 = 'MGM IB by 4 customer numbers 8.30.3019.csv'\n",
    "#Typically PageSmart\n",
    "#IMPORTANT: Ensure gspmps.com instead of https://tabs.toshibameters.com to ensure you’re looking at the most recent record when multiple FMAudit servers are installed for a single customer\n",
    "src2 = 'MGM FMA 8.15.2019 Device Change Worksheet.csv'\n",
    "#Typically Project ROS (if multiple ROS, then a summary of all of them)\n",
    "#IMPORTANT: this is a single file for all ROS's \n",
    "src3 = 'MGM Project ROS Summary.csv'\n",
    "#Typically full IB data set\n",
    "src4 = 'Full IB 8.21.2019 - serials only.csv'\n",
    "#Typically billing file\n",
    "src5 = 'MGM Billing 8.27.2019.csv'\n",
    "#Typically full IB data set - BRIEF VERSION\n",
    "src6 = 'Full IB from 2016-2019 BRIEF.csv'\n",
    "#misc file that has serials to compare\n",
    "src7 = ''\n",
    "\n",
    "#Customer Reference Number for Oracle Installed Base\n",
    "cust_numbers = list()\n",
    "cust_numbers = (\"T0BS49A\", \"T0BUQW1\", \"T0BV7VF\", \"T0BVMSY\")\n",
    "\n",
    "print(\"I did the thing!\")"
   ]
  },
  {
   "cell_type": "markdown",
   "metadata": {},
   "source": [
    "## Load Data from CSVs"
   ]
  },
  {
   "cell_type": "code",
   "execution_count": 41,
   "metadata": {},
   "outputs": [
    {
     "name": "stdout",
     "output_type": "stream",
     "text": [
      "\u001b[4m\n",
      "Sample pulled from MGM FMA 8.15.2019 Device Change Worksheet.csv\u001b[0m, entry from 0th list entry: \n",
      "OrderedDict([('\\ufeffDevice ID', '1884272'), ('Device Name', 'HL-3170CDW series'), ('Model', 'Brother HL-3170CDW'), ('Serial Number', 'U63478D3J153685'), ('IP Address', '10.6.64.30'), ('Last Report Date ', '8/13/2019'), ('Managed', 'Unmanaged'), ('Ship To / Company Name', ''), ('Address1', ''), ('Address 2', ''), ('Attention', ''), ('City', ''), ('State', ''), ('Zip', ''), ('Location', ''), ('Asset Number', ''), ('Cost Center', ''), ('EUConfirmation Email', ''), ('Program Type', ''), ('Black Part', ''), ('Cyan Part', ''), ('Magenta Part', ''), ('Yellow Part', '')])\n",
      "\u001b[4m\n",
      "Sample pulled from MGM Project ROS Summary.csv\u001b[0m, entry from 0th list entry: \n",
      "OrderedDict([('\\ufeffSheet Name', 'Borgata Implementation Rollout Schedule 2018'), ('Primary', 'MGM Borgata'), ('Location Name', ''), ('Street Address', ''), ('City', 'Atlantic City'), ('State', 'NJ'), ('Zip', '08401'), ('Floor / Reference Point', ''), ('Internal Location (Department)', 'BACK-UP UNIT'), ('Assessment Location Notes', ''), ('Toshiba Serial Number', 'SCFFH62112'), ('Toshiba Replacement Model', ''), ('ACTION', 'Install / Leave in Place'), ('STATUS for Delivery / Installation', 'COMPLETED'), ('On FMA?', ''), ('Enrolled into MPS?', ''), ('Current Device Serial Number', ''), ('IP Address (Assessment)', ''), ('Converted?', '')])\n",
      "\u001b[4m\n",
      "Sample pulled from Full IB 8.21.2019 - serials only.csv\u001b[0m, entry from 0th list entry: \n",
      "OrderedDict([('\\ufeffSERIAL_NUMBER', 'SCLJ585945')])\n",
      "\u001b[4m\n",
      "Sample pulled from MGM Billing 8.27.2019.csv\u001b[0m, entry from 0th list entry: \n",
      "OrderedDict([('CustomerName', 'MGM Resorts International'), ('DivisionName', 'ARIA'), ('MPDeviceID', '2033229'), ('BillingCode', 'MGM RESORTS INTL OPS'), ('SerialNbr', 'JP8RD26625'), ('DeviceName', 'Color LaserJet 4700'), ('ModelName', 'HP Color LaserJet 4700'), ('MonoPages', '173'), ('ColorPages', '0'), ('Location', 'EXECUTIVE OFFICE / FL 1A / L261602'), ('IPAddress', '10.161.96.32'), ('BeginningPageCount', '15901'), ('EndingPageCount', '16074'), ('StartDateTime', '7/1/2019'), ('EndDateTime', '7/31/2019'), ('Address1', '3730 S LAS VEGAS BLVD'), ('City', 'LAS VEGAS'), ('STATE', 'NV'), ('PostalCode', '89158'), ('', '')])\n",
      "\u001b[4m\n",
      "Sample pulled from Full IB from 2016-2019 BRIEF.csv\u001b[0m, entry from 0th list entry: \n",
      "OrderedDict([('INSTALL_DATE', '8/19/2015'), ('CUSTOMER_REFERENCE', 'T0BPSS2'), ('CUSTOMER_NAME', 'WORKFORCE DEVELOPMENT INSTITUTE INC'), ('CUSTOMER_LOCATION_ADDRESS_1', '96 SOUTH SWAN ST'), ('MODEL_NUMBER', 'ESTUDIO3055C'), ('SERIAL_NUMBER', 'SC7CE50600')])\n"
     ]
    }
   ],
   "source": [
    "#####################################\n",
    "#       IMPORT SCRIPTS FOR EACH THAT EXPORTS SAMPLE OF SERIAL NUMBER\n",
    "#####################################\n",
    "\n",
    "\n",
    "def import_cvs_into_list(source_cvs):\n",
    "    \"\"\"\n",
    "        Imports CSV into list\n",
    "        Args:\n",
    "            source_cvs\n",
    "        Returns:\n",
    "            data_list\n",
    "    \"\"\"\n",
    "    #creates a list where each row is list entry. Each list entry is a collection of Dict's\n",
    "    data_list = []\n",
    "    with open(source_cvs, 'rb') as f:\n",
    "        reader = unicodecsv.DictReader(f)\n",
    "        for row in reader:\n",
    "            data_list.append(row)\n",
    "    #List value of row:\n",
    "    print(color.UNDERLINE + \"\\nSample pulled from \" + source_cvs + color.END + \", entry from 0th list entry: \")\n",
    "    print(data_list[0])\n",
    "    return data_list\n",
    "\n",
    "ib_devices = list()\n",
    "pagesmart_devices = list()\n",
    "ros_devices = list()\n",
    "ib_full_devices = list()\n",
    "billing_devices = list()\n",
    "ib_full_brief_devices = list()\n",
    "\n",
    "if src1:\n",
    "    ib_devices = import_cvs_into_list(src1)\n",
    "if src2:\n",
    "    pagesmart_devices = import_cvs_into_list(src2)\n",
    "if src3:\n",
    "    ros_devices = import_cvs_into_list(src3)\n",
    "if src4:\n",
    "    ib_full_devices_serials = import_cvs_into_list(src4)\n",
    "if src5:\n",
    "    billing_devices = import_cvs_into_list(src5)\n",
    "if src6:\n",
    "    ib_full_brief_devices = import_cvs_into_list(src6)\n",
    "\n"
   ]
  },
  {
   "cell_type": "markdown",
   "metadata": {},
   "source": [
    "## Harmonize data keys e.g. Serial Number columns"
   ]
  },
  {
   "cell_type": "code",
   "execution_count": 42,
   "metadata": {},
   "outputs": [
    {
     "name": "stdout",
     "output_type": "stream",
     "text": [
      "U63478D3J153685\n",
      "SCFFH62112\n",
      "JP8RD26625\n",
      "SC7CE50600\n",
      "I did the thing!\n"
     ]
    }
   ],
   "source": [
    "#####################################\n",
    "#               Harmonize Keys      #\n",
    "#####################################\n",
    "\n",
    "\n",
    "serial_number_name_variants = ['SERIAL_NUMBER','Serial Number','Toshiba Serial Number','SerialNbr']\n",
    "\n",
    "def harmonize_serial_number_key(list_a):\n",
    "    \"\"\"\n",
    "    Since Serial Number is primary key, they key name sshould be the same among all tables\n",
    "    ArgS:\n",
    "        list_a\n",
    "    Returns:\n",
    "        none\n",
    "    \"\"\"\n",
    "    for row in list_a:\n",
    "        if ('serial_number') in row:\n",
    "            continue\n",
    "        for sn_variant in serial_number_name_variants:\n",
    "            if sn_variant in row:\n",
    "                row['serial_number'] = row[sn_variant]\n",
    "                del row[sn_variant]\n",
    "        if ('serial_number') not in row:\n",
    "            print(\"Issue: Did not find serial number key.\")\n",
    "\n",
    "            \n",
    "if src1:\n",
    "    harmonize_serial_number_key(ib_devices)\n",
    "    print(ib_devices[0]['serial_number'])\n",
    "    \n",
    "if src2:\n",
    "    harmonize_serial_number_key(pagesmart_devices)\n",
    "    print(pagesmart_devices[0]['serial_number'])\n",
    "\n",
    "if src3:\n",
    "    harmonize_serial_number_key(ros_devices)\n",
    "    print(ros_devices[0]['serial_number'])\n",
    "\n",
    "#NOTE: src4 is already a list of just serial numbers to reduce resource drain on computer\n",
    "# if src4:\n",
    "#     harmonize_serial_number_key(ib_full_devices_serials)\n",
    "#     print(ib_full_devices_serials[0]['serial_number'])    \n",
    "    \n",
    "if src5:\n",
    "    harmonize_serial_number_key(billing_devices)\n",
    "    print(billing_devices[0]['serial_number'])\n",
    "\n",
    "if src6:\n",
    "    harmonize_serial_number_key(ib_full_brief_devices)\n",
    "    print(ib_full_brief_devices[0]['serial_number'])\n",
    "\n",
    "print(\"I did the thing!\")"
   ]
  },
  {
   "cell_type": "markdown",
   "metadata": {},
   "source": [
    "## Fixing Data Types - FUNCTION"
   ]
  },
  {
   "cell_type": "code",
   "execution_count": 43,
   "metadata": {},
   "outputs": [
    {
     "name": "stdout",
     "output_type": "stream",
     "text": [
      "I did the thing!\n"
     ]
    }
   ],
   "source": [
    "#####################################\n",
    "#     Add data types other than string, IB portion and functions\n",
    "#####################################\n",
    "\n",
    "from datetime import datetime as dt\n",
    "\n",
    "# Takes a date as a string, and returns a Python datetime object. \n",
    "# If there is no date given, returns None\n",
    "def parse_date(date):\n",
    "    if date == '' or date == None:\n",
    "        return None\n",
    "    else:\n",
    "        return dt.strptime(date, '%m/%d/%Y')\n",
    "        #return dt.strptime(date, '%m/%d/%Y %H:%M:%S')\n",
    "        \n",
    "    \n",
    "# Takes a string which is either an empty string or represents an integer,\n",
    "# and returns an int or None.\n",
    "def parse_maybe_int(i):\n",
    "    if i == '':\n",
    "        return None\n",
    "    else:\n",
    "        return int(i)\n",
    "    \n",
    "print(\"I did the thing!\")"
   ]
  },
  {
   "cell_type": "markdown",
   "metadata": {},
   "source": [
    "## Fixing Data Types - INSTALL BASE"
   ]
  },
  {
   "cell_type": "code",
   "execution_count": 44,
   "metadata": {
    "scrolled": true
   },
   "outputs": [],
   "source": [
    "if src1:    \n",
    "    # Clean up the data types an INSTALL BASE table\n",
    "    for ib_device in ib_devices:\n",
    "        ib_device['INSTALL_DATE'] = parse_date(ib_device['INSTALL_DATE'])\n",
    "        #ib_device['days_to_cancel'] = parse_maybe_int(enrollment['days_to_cancel'])\n",
    "        ib_device['GOLD_FLAG'] = ib_device['GOLD_FLAG'] == 'True'\n",
    "    print ()\n",
    "\n",
    "    print(\"I did the thing!\")"
   ]
  },
  {
   "cell_type": "markdown",
   "metadata": {},
   "source": [
    "## Fixing Data Types - PAGESMART"
   ]
  },
  {
   "cell_type": "code",
   "execution_count": 45,
   "metadata": {},
   "outputs": [
    {
     "name": "stdout",
     "output_type": "stream",
     "text": [
      "I did the thing!\n"
     ]
    }
   ],
   "source": [
    "#####################################\n",
    "#     Add data types other than string, PAGESMART portion\n",
    "#####################################\n",
    "\n",
    "if src2:\n",
    "    for pagesmart_device in pagesmart_devices:\n",
    "    #     pagesmart_device['lessons_completed'] = parse_maybe_int(pagesmart_device['MonoPages'])\n",
    "    #     pagesmart_device['num_courses_visited'] = parse_maybe_int(pagesmart_device['ColorPages'])\n",
    "    #     pagesmart_device['projects_completed'] = parse_maybe_int(pagesmart_device['BeginningPageCount'])\n",
    "    #     pagesmart_device['total_minutes_visited'] = parse_maybe_int(pagesmart_device['EndingPageCount'])\n",
    "    #     pagesmart_device['StartDateTime'] = parse_date(pagesmart_device['StartDateTime'])\n",
    "        pagesmart_device['Last Report Date'] = parse_date(pagesmart_device['Last Report Date '])\n",
    "    \n",
    "    print(\"I did the thing!\")\n",
    "\n"
   ]
  },
  {
   "cell_type": "markdown",
   "metadata": {},
   "source": [
    "## Fixing Data Types - Project ROS"
   ]
  },
  {
   "cell_type": "code",
   "execution_count": 46,
   "metadata": {},
   "outputs": [
    {
     "name": "stdout",
     "output_type": "stream",
     "text": [
      "I did the thing!\n"
     ]
    }
   ],
   "source": [
    "#####################################\n",
    "#     Add data types other than string, ROS portion\n",
    "#####################################\n",
    "\n",
    "if src3:\n",
    "    print(\"I did the thing!\")"
   ]
  },
  {
   "cell_type": "markdown",
   "metadata": {},
   "source": [
    "## Fixing Data Types - Billing"
   ]
  },
  {
   "cell_type": "code",
   "execution_count": 47,
   "metadata": {},
   "outputs": [
    {
     "name": "stdout",
     "output_type": "stream",
     "text": [
      "I did the thing!\n"
     ]
    }
   ],
   "source": [
    "#####################################\n",
    "#     Add data types other than string, BILLING portion\n",
    "#####################################\n",
    "\n",
    "if src5:\n",
    "    print(\"I did the thing!\")"
   ]
  },
  {
   "cell_type": "markdown",
   "metadata": {},
   "source": [
    "## Find/List Duplicate Serial Numbers"
   ]
  },
  {
   "cell_type": "code",
   "execution_count": 48,
   "metadata": {},
   "outputs": [
    {
     "name": "stdout",
     "output_type": "stream",
     "text": [
      "\n",
      "MGM FMA 8.15.2019 Device Change Worksheet.csv\n",
      "Total devices checked: 4059\n",
      "Total unique devices: 3494\n",
      "Total blanks: 565\n",
      "Total duplicates devices: 565\n",
      "set() \n",
      "\n",
      "MGM Project ROS Summary.csv\n",
      "Total devices checked: 1744\n",
      "Total unique devices: 1721\n",
      "Total blanks: 0\n",
      "Total duplicates devices: 23\n",
      "\u001b[1mDuplicate records found. Please investigate then delete applicable record(s).\u001b[0m\n",
      "{'CNIH43138', 'JPCCLDB098', 'JPCCLDB096', 'NOT BEING DELIVERED', 'CULH49851', 'JPCCLDW16W', 'DID NOT DEPLOY', 'CNBCM191Z2', 'JPCCLDB09B', 'JPCCLDB09D', 'CNBCL730RG', 'CNBCL730S0', '7018836002DXY', 'CNBCL730Q3'} \n",
      "\n",
      "MGM Billing 8.27.2019.csv\n",
      "Total devices checked: 3384\n",
      "Total unique devices: 2426\n",
      "Total blanks: 24\n",
      "Total duplicates devices: 958\n",
      "\u001b[1mDuplicate records found. Please investigate then delete applicable record(s).\u001b[0m\n",
      "{'SCZCJ48201', 'SCNAJ69794', 'SCHGG19612', 'SCHIH30162', 'SCHJG22296', 'SCNCJ39049', 'CNCCB9D0V2', 'SCNLH57875', 'SCNHH37911', 'JPDCGB205M', 'SCNCJ39057', 'SCNBJ33458', 'SCNBJ33539', 'SC1BJ13796', 'SCUDJ53204', 'SCUDJ53240', 'SCFFH62180', 'SCHEH27095', 'SCHJG22299', 'SCFGG35365', 'SCNIH42366', 'SCNIH42391', 'SCNBJ33485', 'SSFCG70041', 'SCNJH46987', 'SCNAJ69819', 'SCFGG35397', 'SC1CJ14070', 'SCNCJ39050', 'SCNCJ35002', 'JPBCL590NT', 'SCUDJ53208', 'SCUBJ51407', 'SCNKH55235', 'SCNCJ39047', 'SCNLH58007', 'SC1AJ13147', 'SCNCJ39016', 'SCNJH47118', 'SCNCJ35095', 'SCNJH48796', 'SC1LH12190', 'SCNBJ33449', 'JPTLB64529', 'SCNLH59249', 'CNCCF6D295', 'SCNKH55258', 'SCNLH62158', 'S7018836002DYX', 'SCNKH56318', 'SCFFG31375', 'SCNAJ69782', 'SCNBJ33540', 'SCNKH54328', 'SSFCG70037', 'SCNAJ65151', 'SCFGG35369', 'SSFFG70217', 'SCFGG35380', 'SCNIH43194', 'SC1DJ14700', 'SCNBJ33530', 'SCFGG35393', 'SCUDJ53241', 'JPRLC18615', 'SCNLH58060', 'S7018836002DXT', 'SCHGH28670', 'SSFCG70024', 'SCNLH57896', 'SCNKH55238', 'SCNGH31585', 'SCNKH54373', 'SCNLH62110', 'SCFGG39950', 'SCNBJ34617', 'SCNCJ35105', 'JPCKC38228', 'SCNAJ69788', 'SCZCJ48203', 'SCUDJ53210', 'SCNLH59333', 'SCNKH56423', 'SCHGH28666', 'SCFGG39938', 'SCZGH13080', 'SCNIH43129', 'SCFGG34328', 'SCNCJ35100', 'SCNBJ33531', 'SCNIH43183', 'SCNJH47718', 'SCNLH58049', 'SCNCJ40415', 'SCNKH55244', 'SCNJH47716', 'SCNIH41772', 'CNCCB811DT', 'SCNLH61159', 'SCNCJ36477', 'SCNBJ33500', 'SCNAJ69796', 'SCNLH59460', 'SC1AJ13125', 'SCFFG34043', 'SCNKH56422', 'SCNCJ39043', 'SCNKH55243', 'SSFFG70244', 'SCFEH61495', 'CNCC9DP04X', 'SCFGG34273', 'CNCC9BP0FL', 'SCZDJ48828', 'SCNKH56329', 'SCNLH59322', 'SCFGG34262', 'SCUBJ51412', 'SCFJG53142', 'SCNHH37917', 'SCNBJ33490', 'SCNGH31556', 'SSFFG70228', 'JPRLC16764', 'SCNCJ35075', 'SCHJG22303', 'SCUBJ51607', 'SCFGG34309', 'SCNIH43217', 'SCNJH47731', 'SSFCG70047', 'SCHGG20177', 'SCNKH56310', 'S7018836002F0D', 'CNCCF510PD', 'SCNJH46970', 'SCNAJ65149', 'SCNJH47711', 'VNBKKCK0HH', 'SCNLH62153', 'SCZDJ48799', 'SCNKH49917', 'SCNGH31667', 'SC1DJ14697', 'SCNCJ39014', 'SCNBJ33477', 'SCNBJ33559', 'SCFAH37068', 'SC2DJ15117', 'SCNHH37835', 'SCNBJ32854', 'SCNJH47105', 'CNWBF78523', 'SCNBJ33067', 'SCNIH43147', 'SCFEH59622', 'SCNBJ33586', 'SCNJH47246', 'SCNCJ35101', 'SCNLH59461', 'SCNLH58045', 'SCNKH54364', 'SCNKH49898', 'SCHHH30014', 'SCNIH43141', 'SCNBJ33573', 'SCNKH49964', 'SCFJG53109', 'SCNAJ69011', 'SCHHH30013', 'SCNCJ35017', 'SC1DJ14698', 'SCNIH41716', 'SCNJH47236', 'SCNKH56426', 'SCUDJ53219', 'SCNJH48993', 'SCNBJ33514', 'SCFFG34087', 'SCNIH43181', 'SCFGG34313', 'SCZDJ48826', 'SCNKH56432', 'SCNIH43120', 'SCNKH55267', 'SCNLH59201', 'SCNIH42390', 'SCNLH61162', 'SC1BJ13768', 'SCFGG35399', 'SCNAJ65134', 'SCNKH49894', 'SCNKH56428', 'SSFFG70222', 'JPDCJC0146', 'SCNLH62119', 'SCNIH42396', 'SCNLH57907', 'SCZCJ48218', 'S7018836002DZD', 'SCNLH59327', 'SC2DJ15119', 'SCNLH62163', 'SCNKH56372', 'SSFFG70218', 'SCNBJ33600', 'SCNKH55234', 'SCUDJ53217', 'SCZDJ48835', 'SC1BJ13783', 'SCNHH37855', 'SCFGG35398', 'SCNIH41764', 'SCNKH56338', 'CNCC8DQ038', 'SCNBJ32919', 'SCNIH43130', 'SCNKH56322', 'SC1KH10851', 'SCNBJ33557', 'SC1BJ13759', 'SC1BJ13791', 'SCFFH62135', 'SCZDJ48805', 'SCNJH47136', 'SC1CJ14103', 'SCNCJ39042', 'SCNLH62164', 'SCNBJ33593', 'CNB8H7N8NB', 'SCULH49826', 'SSFFG70220', 'SCZDJ48798', 'VNB8K3YCN5', 'SCNLH61163', 'SCFGG35392', 'SCNKH49891', 'SCNBJ33598', 'SCNIH42365', 'SCNIH43173', 'SCNLH61081', 'SSFFG70226', 'SCNLH57915', 'SCZDJ48831', 'SCFGG35413', 'SCNKH54440', 'SCNGH31802', 'SCNCJ36865', 'SCNLH57892', 'SCNBJ33506', 'SC1BJ13802', 'SCNJH47271', 'SCNLH59197', 'SCNCJ35068', 'JP8RB84210', 'SCFGG34314', 'SCNKH56444', 'SCNBJ32864', 'SCFGG34315', 'SCNLH59200', 'SCNKH50225', 'SCNIH41810', 'SCFGG39883', 'SCNIH43185', 'CNCCCB92X0', 'SCNLH62115', 'SCNCJ36863', 'SCNKH56334', 'SCNJH47774', 'SCNJH47017', 'SCFGG35418', 'SCHFH28486', 'SCNAJ69784', 'SCUDJ53243', 'SCULH49845', 'SCNIH42394', 'SCNCJ36489', 'SCNHH37833', 'SCNIH42351', 'SCNHH37851', 'SCNAJ69077', 'SCNBJ32782', 'SCFFH62112', 'SCNJH48804', 'SCNLH57901', 'SCNIH43111', 'SCHEH27451', 'SCZDJ48827', 'SCNCJ39019', 'SCNGH31740', 'SCNKH55263', 'CNDF502642', 'SCNIH43178', 'SCNIH43160', 'SCFJG54695', 'SCNJH46986', 'SCNLH58062', 'SCFFG30214', 'SCNLH57966', 'SCNJH48795', 'SCNAJ69005', 'SCNIH41763', 'SCNIH41809', 'SCNAJ69098', 'SCNBJ33599', 'SSFEG70175', 'SCFFG34037', 'SCNGH31545', 'SC1DJ14694', 'SCNCJ40437', 'SCNKH56467', 'SCNLH57900', 'SCNJH48999', 'SCNJH45681', 'SCNLH57909', 'SCFFG34056', 'SCNAJ69114', 'SCNJH48896', 'SCFGG34274', 'SCHEH27719', 'SCFFG34033', 'SCNIH42349', 'SCNIH43157', 'SCNAJ69115', 'SCUDJ53222', 'SCFGG39886', 'SCFFG34046', 'SCHBH25518', 'SCHGG20196', 'SCULH49811', 'SCZDJ48800', 'SCNLH59335', 'SCNLH59438', 'SCNIH43230', 'SCFFH62174', 'SCUDJ53211', 'SCNBJ33487', 'SCZDJ48803', 'SCHGG20171', 'SCNJH47135', 'SCNBJ34588', 'SCNKH54459', 'SCNJH47719', 'SCNCJ36872', 'SCUBJ51611', 'SCNBJ33440', 'SCFGG34260', 'SCNJH47238', 'JPBKD24111', 'SCFFG34093', 'SCNBJ33519', 'SC1LH12203', 'SCNHH37938', 'SCNJH48797', 'SCNKH49897', 'SSFEG70188', 'SCNKH49900', 'SCNIH42395', 'SCNCJ39020', 'SCNKH56351', 'SCFGG35435', 'SC1KH11361', 'SCFGG39885', 'SCNAJ68996', 'SC1CJ14104', 'SCZGH13068', 'SSFFG70223', 'SCUDJ53239', 'SCNBJ33445', 'SCNKH56316', 'SCFFG30124', 'SCNBJ33489', 'SCHAH25138', 'SCZDJ48829', 'VNBKK98DGP', 'SC1BJ13766', 'SCNKH49959', 'SCNAJ69014', 'SCFGG34265', 'SCHEH27738', 'SCFGG39942', 'SCNJH47258', 'SCNBJ32799', 'SCUBJ51408', 'SCNLH57908', 'SC1AJ13096', 'SCNLH61165', 'SC1LH12197', 'SCNHH37858', 'SC1LH12201', 'SCNJH45693', 'SCNJH47141', 'SCFEH59634', 'SCNBJ34620', 'SCFFG31387', 'SCNBJ33571', 'SCNCJ35083', 'SCNJH47750', 'SCNAJ65126', 'SSFFG70241', 'JPDCJD60D2', 'SCNBJ33513', 'SCNBJ33522', 'JPTLC24154', 'SCNIH41697', 'CNB6GBT9YX', 'SCFGG34277', 'SCNJH47758', 'SCNBJ33441', 'SCNIH43138', 'S7018836002DYT', 'SCZDJ48837', 'SCFEH61492', 'SCNCJ35110', 'SCNCJ35019', 'SCZDJ48824', 'SC1DJ14701', 'SCNJH45711', 'SCHGH28664', 'SCFGG35409', 'SCNCJ36858', 'CN59F7M6FT', 'SCUDJ53236', 'SCULH49829', 'SCNLH62112', 'SCNLH57925', 'SCZGH12948', 'SCNIH40502', 'SSFFG70229', 'SCHAH24820', 'SCNBJ33512', 'SCUDJ53237', 'SCNBJ33525', 'SCNKH49902', 'SC1LH12200', 'SCNLH59203', 'SCNLH61102', 'SCNLH59260', 'SCNIH41774', 'SCNKH56440', 'SCFGG34307', 'SCNBJ33588', 'JP8RD26625', 'SCHEH27737', 'SCNIH41742', 'SCNCJ36871', 'SCNLH62108', 'SCNCJ39027', 'SCFGG35411', 'SCNIH42369', 'SCNJH47003', 'SCNKH49886', 'SCNLH57902', 'SCNAJ69828', 'SCFGG35441', 'JPRLB33245', 'SCNKH49963', 'SCZDJ48830', 'SCNLH57919', 'SCZCJ48202', 'SCNIH40494', 'SCFGG35385', 'SCNCJ39040', 'SCNAJ69806', 'SCNIH41767', 'SCNKH56333', 'SCNKH56425', 'SCFEH61650', 'JPBCC400RS', 'SCNJH47088', 'SCNKH49946', 'SCNKH56340', 'SCNJH47775', 'SCNGH31549', 'SCNCJ35092', 'SCNAJ69814', 'CNCCB4C06R', 'SCNAJ69786', 'SCFGG38565', 'SCNJH47111', 'SCULH49836', 'SCNKH56412', 'SCNBJ33570', 'SCNIH42393', 'SCUBJ51599', 'SCUDJ53220', 'SCNLH57850', 'JPBCB2T05H', 'SCNLH57904', 'SCUDJ53232', 'SCNKH49956', 'SCNBJ33483', 'SCNKH55257', 'SCHHH30011', 'SCNBJ33521', 'SCNCJ35090', 'SCNIH41696', 'SCNBJ33455', 'SCFFG34098', 'SCNLH57912', 'SCZDJ48804', 'SCNJH47261', 'SC1LH12213', 'SCFGG38562', 'SCNKH49918', 'SCZCJ48217', 'SCNKH56339', 'S7018836002DZK', 'SCNCJ36874', 'SCNBJ33595', 'SCUBJ51609', 'SCNLH62159', 'SCNCJ40509', 'SCUDJ53233', 'SCNLH57816', 'SCFGG34266', 'SCNAJ69781', 'SCNJH47069', 'SCFGG34267', 'SCNLH62157', 'SCNLH58033', 'SCHIG21330', 'SCNJH48805', 'CNB6G7QJ78', 'SCUDJ53215', 'SCUBJ51416', 'SCUDJ53226', 'SCNIH43161', 'SCNIH41700', 'SCNIH41753', 'SCNLH61166', 'SCFFH62172', 'SSFCG70026', 'SCNAJ69778', 'SCFIG51086', 'SCNLH57916', 'SC1BJ13773', 'SSFFG70232', 'JPBCB8K0SM', 'SCNIH41758', 'SCNKH55245', 'SCHEH27736', 'SCUDJ53231', 'SC1BJ13787', 'SCHIH30150', 'SCZIH19100', 'SCHJG22293', 'SCNJH47018', 'SCNLH58056', 'SC1BJ13795', 'SCHFH28480', 'SCHIG21331', 'SCNAJ69829', 'SCZIH19148', 'S7018836002F0W', 'SCFCH44400', 'SCNLH59191', 'SCUBJ51603', 'VNB3D23906', 'SCNCJ36867', 'SCNIH41698', 'SCHIH30120', 'SC1LH12233', 'SCFCH45855', 'SCFGG35416', 'SCNIH43234', 'SCFFG34044', 'SCNLH61091', 'SCNKH55250', 'SCZDJ48794', 'SC1KH11367', 'SCNJH48909', 'SCNIH43179', 'SCHJG22274', 'SCFGG35439', 'SCNKH54396', 'SCUDJ53206', 'SCNKH56434', 'SCNBJ32904', 'SCNJH47772', 'SCFGG39877', 'SCHEH27720', 'SCFGG39941', 'SCFGG34263', 'SCNIH41693', 'SCNCJ35087', 'SCNJH47765', 'SCFGG35414', 'JPBKF20921', 'SSFFG70245', 'SCFGG38520', 'SCNLH57960', 'SCNIH43177', 'SCHJG22297', 'SCNJH47739', 'SCNAJ69012', 'SCFHG42114', 'CNDF517640', 'SCNAJ69019', 'SCNKH56344', 'SCNJH47213', 'SCNIH41755', 'SSFFG70238', 'SCNKH56488', 'SSFDG70133', 'SCFEH58926', 'SCUDJ53242', 'SCFFG31382', 'SCNCJ40452', 'SCNGH31581', 'SC1AJ13119', 'SCZDJ48834', 'SCNIH40400', 'SCFGG35379', 'SCNLH61107', 'SCNIH41692', 'SCNJH47019', 'SCNIH42359', 'SCFGG39925', 'SCNBJ33541', 'SC1LH12214', 'SCFFG31430', 'SCNCJ35098', 'SCNIH43123', 'SCNCJ35102', 'SCFGG39881', 'SCNBJ34590', 'SCNCJ36853', 'SCNKH49915', 'SCFGG35424', 'SCNLH62152', 'SC1LH12191', 'SCNKH56442', 'SCNJH48908', 'SCNIH43112', 'SCNBJ33568', 'SCUDJ53218', 'SCZDJ48796', 'S7018836002DXD', 'SCNBJ33597', 'SCHGG20182', 'SCNKH56420', 'SSFEG70194', 'SCNBJ33433', 'SCNKH56408', 'SCNKH56414', 'SCULH49792', 'SCNLH61164', 'SCNAJ69824', 'SCNBJ33574', 'SCNAJ69103', 'SSFEG70182', 'SCNIH41765', 'SCNJH47257', 'SCNKH49907', 'SCNKH56438', 'SCNIH41760', 'SCNBJ33565', 'SCFFG34071', 'SCNIH41769', 'SCNIH43200', 'SCNBJ33589', 'SCNKH56324', 'SCZDJ48836', 'SCNBJ33567', 'SCNIH41773', 'SCNAJ69791', 'SCNKH56332', 'SCNBJ33572', 'CNB7GCW7W8', 'SSFEG70170', 'SCFGG39909', 'SCNLH59268', 'SCHGH28661', 'SC1BJ13799', 'SCNJH47239', 'SCZDJ48832', 'SCNJH47732', 'SSFFG70230', 'SCNJH48915', 'SCNLH57897', 'SCNAJ69773', 'SCHIH30165', 'SCNLH61101', 'SCNIH39454', 'SCNBJ32920', 'SC1BJ13769', 'SCNKH55271', 'SCNCJ39018', 'SCNLH62106', 'SCNIH43135', 'SCHHH30010', 'JPKAD51865', 'SCFGG39891', 'SCFGG34257', 'SCNBJ32778', 'SCZIH19101', 'CNCCB66046', 'JPBKD33256', 'SCNLH58040', 'SCNLH58051', 'SCNCJ35038', 'SCNIH43115', 'SCNIH42368', 'SCNJH47749', 'SCNKH56421', 'SCNKH55268', 'SCNBJ33454', 'SCNJH47695', 'SCNKH56429', 'SCNKH49912', 'SCNKH56436', 'SCNKH56313', 'SCFGG34264', 'SCHEH27717', 'SC1BJ13770', 'SCNBJ32871', 'SCNAJ65143', 'SCNLH58055', 'SCNJH47722', 'SCNAJ69789', 'CNCCB901CJ', 'SCUDJ53224', 'SCNBJ33479', 'SCNGH31868', 'SCNJH47033', 'CNC8DCRVMP', 'SCFFG34069', 'SSFFG70225', 'SCNKH56416', 'SCNLH61172', 'SCNLH61098', 'SCULH49791', 'SCNBJ34625', 'SCNKH55269', 'SSFFG70235', 'SCUDJ53234', 'SCNAJ69101', 'SCFGG35382', 'SCNJH47767', 'JPBCC2F0BV', 'SCNAJ65135', 'SCNJH45713', 'SCNJH48920', 'SCHHG20908', 'SCNIH42363', 'SCNBJ33448', 'SCFFH62105', 'SC1AJ13138', 'SCHIH30159', 'SCNLH58028', 'SCNKH55225', 'SCNKH55260', 'SC1LH12210', 'SCHIH30152', 'SCNKH49954', 'SCNIH43116', 'SCNKH49890', 'JP4LB06677', 'SCZDJ48833', 'SCNJH47735', 'SCNIH43184', 'SCNBJ33545', 'SCNLH62145', 'SCULH49832', 'SCNIH40522', 'SC1LH12194'} \n",
      "\n"
     ]
    },
    {
     "data": {
      "text/plain": [
       "(None, None)"
      ]
     },
     "execution_count": 48,
     "metadata": {},
     "output_type": "execute_result"
    }
   ],
   "source": [
    "#####################################\n",
    "#                 Find unique and non-blank, post duplicates\n",
    "#####################################\n",
    "\n",
    "## Find the total number of rows and the number of unique students (account keys)\n",
    "## in each table.\n",
    "\n",
    "def find_unique_and_none_blank(input_list):\n",
    "    unique_values = set()\n",
    "    duplicate_values = set()\n",
    "    blank_counter = 0\n",
    "    for row in input_list:\n",
    "        if not row['serial_number']:\n",
    "            blank_counter += 1\n",
    "        elif row['serial_number'] not in unique_values:\n",
    "            unique_values.add(row['serial_number'])\n",
    "        elif row['serial_number'] is not None:\n",
    "            duplicate_values.add(row['serial_number'])\n",
    "            \n",
    "    \n",
    "    print('Total devices checked: ' +  str(len(input_list)))\n",
    "    print('Total unique devices: ' + str(len(unique_values)))\n",
    "    print('Total blanks: ' + str(blank_counter))\n",
    "    \n",
    "    if (len(input_list)!=len(unique_values)):\n",
    "        print(\"Total duplicates devices: \" + str(len(input_list)-len(unique_values)))\n",
    "        if(len(duplicate_values) > 1 or duplicate_values):\n",
    "            print(color.BOLD + \"Duplicate records found. Please investigate then delete applicable record(s).\" \\\n",
    "                  + color.END)\n",
    "    return duplicate_values\n",
    "    \n",
    "#####################################\n",
    "#               List orig vs duplicates count\n",
    "#####################################\n",
    "\n",
    "print (src1), print(find_unique_and_none_blank(ib_devices), \"\\n\") if src1 else None\n",
    "print (src2), print(find_unique_and_none_blank(pagesmart_devices), \"\\n\") if src2 else None\n",
    "print (src3), print(find_unique_and_none_blank(ros_devices), \"\\n\") if src3 else None\n",
    "print (src5), print(find_unique_and_none_blank(billing_devices), \"\\n\") if src5 else None\n",
    "\n",
    "    "
   ]
  },
  {
   "cell_type": "markdown",
   "metadata": {},
   "source": [
    "## Account for \"Silly S\""
   ]
  },
  {
   "cell_type": "code",
   "execution_count": 49,
   "metadata": {},
   "outputs": [
    {
     "name": "stdout",
     "output_type": "stream",
     "text": [
      "I did the thing!\n"
     ]
    }
   ],
   "source": [
    "#####################################\n",
    "#    Compare serial numbers that may have \"Silly S\"\n",
    "#####################################\n",
    "#Some serials have the \"Silly S\" at the beginning.  Check values with added 'S' and removed first character to check against.\n",
    "def check_serial_silly_s(input_serial, check_against_list):\n",
    "    if (input_serial in check_against_list):\n",
    "        return input_serial\n",
    "    elif ((\"S\"+input_serial) in check_against_list):\n",
    "#         print('S added to beginning of Serial for ' + str(input_serial))\n",
    "        return (\"S\"+input_serial)\n",
    "    elif ((input_serial[1:]) in check_against_list):\n",
    "#         print('First Character removed to beginning of Serial for ' + str(input_serial))\n",
    "        return (input_serial[1:])\n",
    "    else:\n",
    "        return None\n",
    "    \n",
    "#test above function\n",
    "if src1:\n",
    "    print(check_serial_silly_s(\"S\"+ib_devices[0]['serial_number'],\"S\" + ib_devices[0]['serial_number']))\n",
    "    print(check_serial_silly_s(\"S\"+ib_devices[0]['serial_number'],(ib_devices[0]['serial_number'])))\n",
    "print(\"I did the thing!\")"
   ]
  },
  {
   "cell_type": "markdown",
   "metadata": {},
   "source": [
    "## Create unique serials lists (removing duplicates)"
   ]
  },
  {
   "cell_type": "code",
   "execution_count": 50,
   "metadata": {},
   "outputs": [
    {
     "name": "stdout",
     "output_type": "stream",
     "text": [
      "\u001b[4mpagesmart_devices total rows: 4059\u001b[0m\n",
      "Total unique devices after check: 3495\n",
      "This function returned a list that removed the following number of duplicates: 564\n",
      "\n",
      "\u001b[4mros_devices total rows: 1744\u001b[0m\n",
      "Total unique devices after check: 1721\n",
      "This function returned a list that removed the following number of duplicates: 23\n",
      "\n",
      "\u001b[4mbilling_devices total rows: 3384\u001b[0m\n",
      "Total unique devices after check: 2427\n",
      "This function returned a list that removed the following number of duplicates: 957\n",
      "\n"
     ]
    }
   ],
   "source": [
    "#####################################\n",
    "#     Create unique value list (remove duplicates)\n",
    "#####################################\n",
    "\n",
    "## Find any one student ib_devices where the student is missing from the daily engagement table.\n",
    "## Output that enrollment.\n",
    "\n",
    "def find_unique_and_return_list(input_list):\n",
    "    unique_values = set()\n",
    "    for row in input_list:\n",
    "        if row['serial_number'] not in unique_values:\n",
    "            unique_values.add(row['serial_number'])\n",
    "    print('Total unique devices after check: ' + str(len(unique_values)))\n",
    "    if (len(input_list)!=len(unique_values)):\n",
    "        print(\"This function returned a list that removed the following number of duplicates: \" \\\n",
    "              + str(len(input_list)-len(unique_values)) + '\\n')\n",
    "    return unique_values\n",
    "\n",
    "if src1: \n",
    "    print(color.UNDERLINE +'ib_devices total rows: ' + str(len(ib_devices)) + color.END)\n",
    "    ib_devices_unique_device_serials = find_unique_and_return_list(ib_devices)\n",
    "\n",
    "if src2:\n",
    "    print(color.UNDERLINE +'pagesmart_devices total rows: ' + str(len(pagesmart_devices)) + color.END)\n",
    "    pagesmart_devices_unique_device_serials = find_unique_and_return_list(pagesmart_devices)\n",
    "\n",
    "if src3:\n",
    "    print(color.UNDERLINE +'ros_devices total rows: ' + str(len(ros_devices)) + color.END)\n",
    "    ros_devices_unique_device_serials = find_unique_and_return_list(ros_devices)\n",
    "\n",
    "if src5:\n",
    "    print(color.UNDERLINE +'billing_devices total rows: ' + str(len(billing_devices)) + color.END)\n",
    "    billing_devices_unique_device_serials = find_unique_and_return_list(billing_devices)\n"
   ]
  },
  {
   "cell_type": "markdown",
   "metadata": {},
   "source": [
    "## Remove Duplicates and account for \"Silly S\""
   ]
  },
  {
   "cell_type": "code",
   "execution_count": 51,
   "metadata": {},
   "outputs": [],
   "source": [
    "#####################################\n",
    "#     Create unique value list (remove duplicates) AND ACCOUNT FOR SILLY S\n",
    "#####################################\n",
    "\n",
    "## Find any one student ib_devices where the student is missing from the daily engagement table.\n",
    "## Output that enrollment.\n",
    "\n",
    "# def find_unique_and_return_list_silly_s_accounted_for(input_list):\n",
    "#     unique_values = set()\n",
    "#     for row in input_list:\n",
    "# #         if row['serial_number'] not in unique_values:\n",
    "# #             unique_values.add(row['serial_number'])\n",
    "#         if not check_serial_silly_s(row['serial_number'],unique_values):\n",
    "#             unique_values.add(row['serial_number'])\n",
    "#     print('Total unique devices after check: ' + str(len(unique_values)))\n",
    "#     if (len(input_list)!=len(unique_values)):\n",
    "#         print(\"This function returned a list that removed the following number of duplicates: \" \\\n",
    "#               + str(len(input_list)-len(unique_values)) + '\\n')\n",
    "#     return unique_values\n",
    "\n",
    "# if ib_devices:\n",
    "#     print(color.UNDERLINE +'ib_devices total rows: ' + str(len(ib_devices)) + color.END)\n",
    "#     ib_devices_unique_device_serials_silly_s = find_unique_and_return_list_silly_s_accounted_for(ib_devices)\n",
    "\n",
    "# if pagesmart_devices:\n",
    "#     print(color.UNDERLINE +'pagesmart_devices total rows: ' + str(len(pagesmart_devices)) + color.END)\n",
    "#     pagesmart_devices_unique_device_serials_silly_s  = find_unique_and_return_list_silly_s_accounted_for(pagesmart_devices)\n",
    "    \n",
    "# if ros_devices:\n",
    "#     print(color.UNDERLINE +'ros_devices total rows: ' + str(len(ros_devices)) + color.END)\n",
    "#     ros_devices_unique_device_serials_silly_s  = find_unique_and_return_list_silly_s_accounted_for(ros_devices)\n",
    "    \n",
    "# if billing_devices:\n",
    "#     print(color.UNDERLINE +'billing_devices total rows: ' + str(len(billing_devices)) + color.END)\n",
    "#     billing_devices_unique_device_serials_silly_s  = find_unique_and_return_list_silly_s_accounted_for(billing_devices)\n",
    "    "
   ]
  },
  {
   "cell_type": "markdown",
   "metadata": {},
   "source": [
    "## Missing Records - COUNT (only) Missing Serials From Each DB"
   ]
  },
  {
   "cell_type": "code",
   "execution_count": 52,
   "metadata": {},
   "outputs": [],
   "source": [
    "\n",
    "#####################################\n",
    "#     Check for missing SN's from each DB WITHOUT MISSING SERIAL LIST\n",
    "#####################################\n",
    "#comparison function between two lists \n",
    "# def count_found_serials_in_lists(list_a, list_b):\n",
    "#     found_matches = set()\n",
    "#     not_found = set()\n",
    "#     for device in list_a:\n",
    "#         if check_serial_silly_s(device, list_b):\n",
    "#             found_matches.add(str(device))\n",
    "#             continue\n",
    "#         else:\n",
    "#             not_found.add(str(device))\n",
    "#     print(\"Found total: \" + str(len(found_matches))) \n",
    "\n",
    "# if ib_devices and pagesmart_devices_unique_device_serials:\n",
    "#     print(color.UNDERLINE +'\\nComparing (counting) the following lists for missing serial numbers: \\n' + color.END + \" \" + src1 + ' \\n ' + src2 )\n",
    "#     count_found_serials_in_lists(ib_devices_unique_device_serials, pagesmart_devices_unique_device_serials)\n",
    "\n",
    "# if pagesmart_devices and ros_devices_unique_device_serials:\n",
    "#     print(color.UNDERLINE +'\\nComparing (counting)the following lists for missing serial numbers: \\n' + color.END + \" \" + src1 + ' \\n ' + src3 )\n",
    "#     count_found_serials_in_lists(ib_devices_unique_device_serials, ros_devices_unique_device_serials)\n",
    "    \n",
    "# if ros_devices and pagesmart_devices_unique_device_serials:\n",
    "#     print(color.UNDERLINE +'\\nComparing (counting)the following lists for missing serial numbers: \\n' + color.END + \" \" + src3 + ' \\n ' + src2 )\n",
    "#     count_found_serials_in_lists(ros_devices_unique_device_serials, pagesmart_devices_unique_device_serials)\n",
    "    \n",
    "# if billing_devices and ros_devices_unique_device_serials:\n",
    "#     print(color.UNDERLINE +'\\nComparing (counting)the following lists for missing serial numbers: \\n' + color.END + \" \" + src2 + ' \\n ' + src3 )\n",
    "#     count_found_serials_in_lists(pagesmart_devices_unique_device_serials, ros_devices_unique_device_serials)\n",
    "\n",
    "\n",
    "\n",
    "\n",
    "\n"
   ]
  },
  {
   "cell_type": "markdown",
   "metadata": {},
   "source": [
    "## Missing Records - Filter for N/A for Search Entires FUNCTION"
   ]
  },
  {
   "cell_type": "code",
   "execution_count": 53,
   "metadata": {},
   "outputs": [
    {
     "name": "stdout",
     "output_type": "stream",
     "text": [
      "I did the thing!\n"
     ]
    }
   ],
   "source": [
    "def filter_out(filter_keys_values_list, unique_serials_list, orig_data_set):\n",
    "    \"\"\"\n",
    "    #####################################\n",
    "        Removes entries based on filter\n",
    "        Args: \n",
    "            list_a \n",
    "            key\n",
    "            key 2 (if applicable)\n",
    "        Returns:\n",
    "            filtered_list\n",
    "    #####################################\n",
    "    \"\"\"\n",
    "    filtered_list = list()\n",
    "    removed_list = list()\n",
    "    print('\\nBefore: quantity of lists\\' entries: ' + str(len(unique_serials_list)))\n",
    "\n",
    "    # create data list using unique serial numbers:\n",
    "    full_data_unique = list()\n",
    "    for unique_entry in unique_serials_list:\n",
    "        # find orig data entry\n",
    "        for orig_entry in orig_data_set:\n",
    "            if (unique_entry == orig_entry['serial_number']):\n",
    "                full_data_unique.append(orig_entry)\n",
    "                break\n",
    "    \n",
    "    filtered_list =  full_data_unique\n",
    "    \n",
    "    for filter_item in filter_keys_values_list:\n",
    "        key = filter_item[0]\n",
    "        value = filter_item[1]\n",
    "        print(\"Removing key/value: \", key, value)\n",
    "        for entry in full_data_unique:\n",
    "            if entry[key] == value:\n",
    "                #print(\"Removing: \", entry['serial_number'])\n",
    "                removed_list.append(entry)\n",
    "                filtered_list.remove(entry)\n",
    "    if (removed_list):\n",
    "        print(\"Number of entries removed: \" + color.RED + str(len(removed_list)) + color.END + \" out of a total \" + str(len(unique_serials_list)))\n",
    "        \n",
    "    print('After: quantity of lists\\' entries: ' + str(len(full_data_unique)))\n",
    "    return filtered_list\n",
    "print(\"I did the thing!\")"
   ]
  },
  {
   "cell_type": "markdown",
   "metadata": {},
   "source": [
    "## Missing Records - Filter for N/A for Search Entires CRITERIA"
   ]
  },
  {
   "cell_type": "code",
   "execution_count": 54,
   "metadata": {},
   "outputs": [
    {
     "name": "stdout",
     "output_type": "stream",
     "text": [
      "Length of ib_data_filterd:  5\n",
      "Length of ps_data_filterd_from_ros:  0\n",
      "Length of ros_data_to_filter_from_ps:  0\n",
      "Length of ros_data_to_filter_from_ib:  0\n",
      "I did the thing!\n"
     ]
    }
   ],
   "source": [
    "#What's in IB that should not be in PS/ROS?\n",
    "ib_data_to_filter = list()\n",
    "ib_data_to_filter.append(('CUSTOMER_LOCATION_STATE','MD'))\n",
    "ib_data_to_filter.append(('CUSTOMER_NAME', 'MGM STUDIOS'))\n",
    "ib_data_to_filter.append(('CUSTOMER_NAME', 'MGM GALLERIES LLC'))\n",
    "ib_data_to_filter.append(('CUSTOMER_NAME', 'MGM LIQUOR WAREHOUSE'))\n",
    "ib_data_to_filter.append(('CUSTOMER_NAME', 'MGM MORTGAGE'))\n",
    "\n",
    "print(\"Length of ib_data_filterd: \", len(ib_data_to_filter))\n",
    "\n",
    "if src1 and src3: \n",
    "    #What's in PS that would not be in IB?\n",
    "    ps_data_to_filter_from_ib = list()\n",
    "    print(\"Length of ps_data_filterd_from_ib: \", len(ps_data_to_filter_from_ib))\n",
    "\n",
    "if src2 and src3: \n",
    "    #What's in PS that won't be in ROS?\n",
    "    ps_data_to_filter_from_ros = list()\n",
    "    print(\"Length of ps_data_filterd_from_ros: \", len(ps_data_to_filter_from_ros))\n",
    "\n",
    "if src3 and src2: \n",
    "    #Note: All ROS (installed) should be in PS - No filters suggested\n",
    "    ros_data_to_filter_from_ps = list()\n",
    "    print(\"Length of ros_data_to_filter_from_ps: \", len(ros_data_to_filter_from_ps))\n",
    "\n",
    "if src1 and src3: \n",
    "    #Note: All ROS (installed) should be in IB - No filters suggested\n",
    "    ros_data_to_filter_from_ib = list()\n",
    "    print(\"Length of ros_data_to_filter_from_ib: \", len(ros_data_to_filter_from_ib))\n",
    "\n",
    "if src5: \n",
    "    #Note: All BILLING (installed) should be in IB - No filters suggested\n",
    "    billing_data_to_filter = list()\n",
    "    print(\"Length of ros_data_to_filter_from_ib: \", len(billing_data_to_filter))\n",
    "\n",
    "print(\"I did the thing!\")"
   ]
  },
  {
   "cell_type": "markdown",
   "metadata": {},
   "source": [
    "## Missing Records - Filter for N/A for Search Entires PERFORM"
   ]
  },
  {
   "cell_type": "code",
   "execution_count": 55,
   "metadata": {},
   "outputs": [
    {
     "name": "stdout",
     "output_type": "stream",
     "text": [
      "\n",
      "Before: quantity of lists' entries: 3495\n",
      "After: quantity of lists' entries: 3495\n",
      "\n",
      "Before: quantity of lists' entries: 1721\n",
      "After: quantity of lists' entries: 1721\n"
     ]
    }
   ],
   "source": [
    "#ros_found_in_ib = check_and_list_missing_serials_in_lists(ros_devices_unique_device_serials, ib_devices_unique_device_serials)\n",
    "\n",
    "\n",
    "#INSTALL BASE FILTERS\n",
    "if src1:\n",
    "    ib_data_filtered = filter_out(ib_data_to_filter, ib_devices_unique_device_serials, ib_devices)\n",
    "\n",
    "if src2 and src1:\n",
    "    ps_data_filtered_for_ib = filter_out(ps_data_to_filter_from_ib, pagesmart_devices_unique_device_serials, pagesmart_devices)\n",
    "if src2 and src3:\n",
    "    ps_data_filtered_for_ros = filter_out(ps_data_to_filter_from_ros, pagesmart_devices_unique_device_serials, pagesmart_devices)\n",
    "    \n",
    "if src3 and src2: \n",
    "    ros_data_filtered_for_ps = filter_out(ros_data_to_filter_from_ps, ros_devices_unique_device_serials, ros_devices)\n",
    "if src3 and src1:\n",
    "    ros_data_filtered_for_ib = filter_out(ros_data_to_filter_from_ib, ros_devices_unique_device_serials, ros_devices)\n",
    "    \n",
    "if src5 and src1: \n",
    "    billing_data_filtered_for_ib = filter_out(billing_data_to_filter, billing_devices_unique_device_serials, billing_devices)\n"
   ]
  },
  {
   "cell_type": "markdown",
   "metadata": {},
   "source": [
    "## Missing Records - Find/List Missing Serials From Each DB FUNCTION"
   ]
  },
  {
   "cell_type": "code",
   "execution_count": 56,
   "metadata": {
    "jupyter": {
     "outputs_hidden": true
    }
   },
   "outputs": [
    {
     "name": "stdout",
     "output_type": "stream",
     "text": [
      "I did the thing!\n"
     ]
    }
   ],
   "source": [
    "from tabulate import tabulate\n",
    "from prettytable import PrettyTable\n",
    "from datetime import datetime\n",
    "\n",
    "#comparison function between two lists \n",
    "def check_and_list_missing_serials_in_lists(list_a, list_b):\n",
    "    \"\"\"\n",
    "    #####################################\n",
    "        Takes in two lists (each list is a list of dicts for a devices e.g. serial_number key to asdf1234 value)\n",
    "            and compares them to each other finding matches and \"not_found\" based on serial_number.\n",
    "        Args: \n",
    "            list_a - entries to be check, return values are based on these entries\n",
    "            list_b - entires to check against\n",
    "        Returns:\n",
    "            found_matches - a list of entries from list_a that were found in list_b based on serial_number\n",
    "            not_found - a list of entries from list_a that were NOT found in list_b based on serial_number\n",
    "    #####################################\n",
    "    \"\"\"\n",
    "    \n",
    "    #Print output \n",
    "    print(color.UNDERLINE +'\\nComparison stats:\\n' + color.END + \\\n",
    "     \" • \" + 'Quantity of primary lists\\' entries: ' + str(len(list_a)))\n",
    "\n",
    "    found_matches = list()\n",
    "    not_found = list()\n",
    "    for device in list_a:\n",
    "        device_serial = device['serial_number'] \n",
    "        if check_serial_silly_s(device_serial, list_b):\n",
    "            found_matches.append(device)\n",
    "            continue\n",
    "        else:\n",
    "            not_found.append(device)\n",
    "            \n",
    "    #Print output         \n",
    "    print(\" • \" + 'Matches found: ' + str(len(found_matches)))\n",
    "\n",
    "    if (not_found):\n",
    "        output_sample_records(not_found)\n",
    "\n",
    "    return found_matches, not_found\n",
    "\n",
    "print(\"I did the thing!\")\n"
   ]
  },
  {
   "cell_type": "markdown",
   "metadata": {},
   "source": [
    "## Missing Records - Find/List Missing Serials From Each OUTPUT FUNCTION"
   ]
  },
  {
   "cell_type": "code",
   "execution_count": 57,
   "metadata": {},
   "outputs": [
    {
     "name": "stdout",
     "output_type": "stream",
     "text": [
      "I did the thing!\n"
     ]
    }
   ],
   "source": [
    "def output_sample_records(list_a):\n",
    "    rows = list()\n",
    "    #Print output         \n",
    "    print (\" • \" + 'Total Missing: ' + str(len(list_a)) + \" \\n\" \\\n",
    "    + color.BOLD + \"Please investigate then add applicable record(s). Some Key fields: \\n\" + color.END)\n",
    "\n",
    "    #Check if IB headers exist and then output\n",
    "    if 'CUSTOMER_LOCATION_ADDRESS_1' in list_a[0].keys():\n",
    "        headers = ('serial_number','INSTALL_DATE','CUSTOMER_NAME','CUSTOMER_LOCATION_ADDRESS_1')\n",
    "        for entry in list_a:\n",
    "            rows.append([entry['serial_number'], entry['INSTALL_DATE'],\n",
    "                         entry['CUSTOMER_NAME'], entry['CUSTOMER_LOCATION_ADDRESS_1']])\n",
    "\n",
    "    #Check if PS headers exist and then output\n",
    "    elif 'Ship To / Company Name' in list_a[0].keys():\n",
    "        headers = ('serial_number', 'Last Report Date' ,'Ship To / Company Name','Address1', 'Model')\n",
    "        for entry in list_a:       \n",
    "            rows.append([entry['serial_number'], entry['Last Report Date'],\n",
    "                         entry['Ship To / Company Name'], entry['Model']])\n",
    "\n",
    "    #Check if ROS headers exist and then output\n",
    "    elif 'ACTION' in list_a[0].keys():\n",
    "        headers = ('serial_number', 'Primary', \n",
    "                   'ACTION', 'STATUS for Delivery / Installation' )\n",
    "        for entry in list_a:      \n",
    "            rows.append([entry['serial_number'], entry['Primary'], \n",
    "                        entry['ACTION'], \n",
    "                         entry['STATUS for Delivery / Installation']])\n",
    "    #else (no header matches)\n",
    "    else:\n",
    "        headers = 'serial_number'\n",
    "        for entry in list_a:\n",
    "            rows.append([entry['serial_number']])\n",
    "\n",
    "    print(tabulate(rows, headers))\n",
    "    \n",
    "print(\"I did the thing!\")"
   ]
  },
  {
   "cell_type": "markdown",
   "metadata": {},
   "source": [
    "## Missing Records - Find/List Missing Serials PART 1"
   ]
  },
  {
   "cell_type": "code",
   "execution_count": 58,
   "metadata": {},
   "outputs": [],
   "source": [
    "#####################################\n",
    "#                 LIST MISSING SERIAL NUMBERS\n",
    "#####################################\n",
    "if src3 and src1:\n",
    "    print(color.UNDERLINE +'\\nList comparison:' + color.END + ' If any devices are listed below, they are in... \\n'  + \\\n",
    "         \" • \" + \"\" + color.GREEN + src3 + color.END + \" but are... \\n\" + \\\n",
    "         \" • \" +  color.BOLD + color.RED + \"Missing from \" + src1 + color.END)\n",
    "    ros_found_in_ib = check_and_list_missing_serials_in_lists(ros_data_filtered_for_ib, ib_devices_unique_device_serials)"
   ]
  },
  {
   "cell_type": "markdown",
   "metadata": {},
   "source": [
    "## Missing Records - Find/List Missing Serials PART 2"
   ]
  },
  {
   "cell_type": "code",
   "execution_count": 59,
   "metadata": {},
   "outputs": [
    {
     "name": "stdout",
     "output_type": "stream",
     "text": [
      "\u001b[4m\n",
      "List comparison:\u001b[0m If any devices are listed below, they are in... \n",
      " • \u001b[92mMGM Project ROS Summary.csv\u001b[0m but are... \n",
      " • \u001b[1m\u001b[91mMissing from MGM FMA 8.15.2019 Device Change Worksheet.csv\u001b[0m\n",
      "\u001b[4m\n",
      "Comparison stats:\n",
      "\u001b[0m • Quantity of primary lists' entries: 1721\n",
      " • Matches found: 1421\n",
      " • Total Missing: 300 \n",
      "\u001b[1mPlease investigate then add applicable record(s). Some Key fields: \n",
      "\u001b[0m\n",
      "serial_number                      Primary                          ACTION                    STATUS for Delivery / Installation\n",
      "---------------------------------  -------------------------------  ------------------------  ------------------------------------\n",
      "JPCCM3M1HG                         Bellagio                         REMOVE/REPLACE            COMPLETE\n",
      "CUKH48939                          MGM Grand                        REMOVE/REPLACE            COMPLETE\n",
      "SCUEG31042                         MZ                               Remove/Replace            COMPLETE\n",
      "CNBCL6T0FF                         Signature                        Remove/Replace            COMPLETED\n",
      "SCUFG31981                         MZ                               Remove/Replace            COMPLETE\n",
      "7018836002DYG                      Mandalay Bay                     REMOVE/REPLACE            COMPLETE\n",
      "SCIEH28069                         MGM Borgata                      Remove/Replace            COMPLETED\n",
      "CNBCM191Z6                         MGM GRAND                        ADD                       COMPLETE\n",
      "SCGLG48747                         95 State Street                  Install                   COMPLETED\n",
      "CUKH48903                          MGM Grand                        REMOVE/REPLACE            COMPLETE\n",
      "JPCCLDB0K0                         MGM Grand                        REMOVE/REPLACE            COMPLETE\n",
      "CULH49808                          Bellagio                         REMOVE/REPLACE            COMPLETE\n",
      "CUKH48922                          MGM Grand                        REMOVE/REPLACE            COMPLETE\n",
      "C2BJ13971                          Beau Rivage                      Remove/Replace            COMPLETE\n",
      "SCGEH10797                         95 State Street                  Install                   COMPLETED\n",
      "CULH49852                          Aria                             REMOVE/REPLACE            COMPLETE\n",
      "CULH49853                          MGM Park                         ADD                       COMPLETE\n",
      "SCGEH11046                         95 State Street                  Install                   COMPLETED\n",
      "SCFEH59622                         MGM Borgata                      Remove/Replace            COMPLETED\n",
      "CUKH48863                          MGM Grand                        REMOVE/REPLACE            COMPLETE\n",
      "CNBCL730ZN                         Luxor                            Remove/Replace            COMPLETED\n",
      "SCGLG48696                         MGM Borgata                      Remove/Replace            COMPLETED\n",
      "JPCCM3M1N9                         Bellagio                         REMOVE/REPLACE            COMPLETE\n",
      "7018836002F02                      Mandalay Bay                     REMOVE/REPLACE            COMPLETE\n",
      "CNBCL78043                         Vdara                            Remove/Replace            COMPLETED\n",
      "CNBCM362JN                         MGM RESORTS INTERNATIONAL        REMOVE/REPLACE            COMPLETE\n",
      "CNKH49898                          MGM Grand                        REMOVE/REPLACE            COMPLETE\n",
      "CUKH48896                          MGM Grand                        REMOVE/REPLACE            COMPLETE\n",
      "SCGJG35325                         MGM Borgata                      Remove/Replace            COMPLETED\n",
      "CNBCM191SM                         Aria                             REMOVE/REPLACE            COMPLETE\n",
      "C1LH12200                          MGM CORPORTATE                   ADD                       COMPLETE\n",
      "SCGLG48684                         MGM Borgata                      Remove/Replace            COMPLETED\n",
      "SCIBH26422                         MGM Borgata                      Remove/Replace            COMPLETED\n",
      "CNJH47118                          MGM Grand Detroit                REPLACE                   COMPLETE\n",
      "NOT BEING DELIVERED                1BOT                             Remove/Replace            COMPLETE\n",
      "CUKH48881                          MGM Grand                        REMOVE/REPLACE            COMPLETE\n",
      "JPCCL91NQ                          MGM Grand                        REMOVE/REPLACE            COMPLETE\n",
      "C1LH12191                          MGM CORPORTATE                   ADD                       COMPLETE\n",
      "CUKH48908                          MGM Grand                        REMOVE/REPLACE            COMPLETE\n",
      "C1LH12203                          MGM CORPORTATE                   ADD                       COMPLETE\n",
      "CNBCL6T095                         Vdara                            Remove/Replace            COMPLETED\n",
      "CNBCL6M0NG                         Aria                             REMOVE/REPLACE            COMPLETE\n",
      "SCGEH11051                         95 State Street                  Install                   COMPLETED\n",
      "JPCCL9B1PH                         MGM Grand                        REMOVE/REPLACE            COMPLETE\n",
      "CNLH61091                          Mandalay Bay                     REMOVE/REPLACE            COMPLETE\n",
      "CNBCLCD057                         MGM Grand                        REMOVE/REPLACE            COMPLETE\n",
      "CUDJ53243                          Bellagio                         REMOVE/REPLACE            COMPLETE\n",
      "SCGLG48808                         95 State Street                  Install                   COMPLETED\n",
      "CUKH48869                          MGM Grand                        REMOVE/REPLACE            COMPLETE\n",
      "CUKH48887                          MGM Grand                        REMOVE/REPLACE            COMPLETE\n",
      "CNBCL730S1                         Vdara                            Remove/Replace            COMPLETED\n",
      "CNBJ34625                          Beau Rivage                      Remove/Replace            COMPLETE\n",
      "SCUFG31938                         BMD2                             Remove/Replace            COMPLETE\n",
      "SCFFH62172                         95 State Street                  Install                   COMPLETED\n",
      "CNBCL6T090                         Luxor                            Remove/Replace            COMPLETED\n",
      "CNBJ32871                          MGM Park                         ADD                       COMPLETE\n",
      "SCHEH27736                         MGM Borgata                      Remove/Replace            COMPLETED\n",
      "CULH49834                          MGM PARK                         ADD                       COMPLETE\n",
      "CULH49828                          The Mirage                       REMOVE/REPLACE            COMPLETE\n",
      "CNBJ33483                          Beau Rivage                      Remove/Replace            COMPLETE\n",
      "SCIKG24320                         MGM Borgata                      Remove/Replace            COMPLETED\n",
      "CZBJ44000                          Beau Rivage                      Remove/Replace            COMPLETE\n",
      "CUDJ53216                          Bellagio                         REMOVE/REPLACE            COMPLETE\n",
      "SCGLG48734                         MGM Borgata                      Remove/Replace            COMPLETED\n",
      "SCGIG31459                         MGM Borgata                      Remove/Replace            COMPLETED\n",
      "SCFEH58926                         95 State Street                  Install                   COMPLETED\n",
      "C1AJ13119                          Beau Rivage                      Remove/Replace            COMPLETE\n",
      "CULH49825                          The Mirage                       REMOVE/REPLACE            COMPLETE\n",
      "CUBJ51614                          MGM RESORTS INTERNATIONAL        REMOVE/REPLACE            COMPLETE\n",
      "JPCCM3M2XQ                         MGM RESORTS INTERNATIONAL        REMOVE/REPLACE            COMPLETE\n",
      "CUKH48871                          MGM Grand                        REMOVE/REPLACE            COMPLETE\n",
      "CNBCL7315H                         MGM Grand                        Remove/Replace            COMPLETED\n",
      "CUKH48895                          MGM Grand                        REMOVE/REPLACE            COMPLETE\n",
      "SCGLG48455                         MGM Borgata                      Remove/Replace            COMPLETED\n",
      "SCUFG31989                         1BOT                             Remove/Replace            COMPLETE\n",
      "SCGLG48407                         MGM Borgata                      Remove/Replace            COMPLETED\n",
      "CNBCM4Y21D                         Bellagio                         REMOVE/REPLACE            COMPLETE\n",
      "SCGLG48652                         MGM Borgata                      Remove/Replace            COMPLETED\n",
      "CNBCL6T06F                         Bellagio                         Remove/Replace            COMPLETED\n",
      "SCUGG34238                         MLFT                             Remove/Replace            COMPLETE\n",
      "C1LH12190                          MGM CORPORTATE                   ADD                       COMPLETE\n",
      "CNBCL73113                         Circus Circus                    Remove/Replace            COMPLETED\n",
      "SCGLG48659                         MGM Borgata                      Remove/Replace            COMPLETED\n",
      "CNBCL730YC                         The Signature                    REMOVE/REPLACE            COMPLETE\n",
      "7018836002DWB                      Mandalay Bay                     REMOVE/REPLACE            COMPLETE\n",
      "SCUFG31990                         1BOT                             Remove/Replace            COMPLETE\n",
      "SCUFG31963                         Exec                             Remove/Replace            COMPLETE\n",
      "CULH49861                          Aria                             REMOVE/REPLACE            COMPLETE\n",
      "CUBJ51602                          Beau Rivage                      Remove/Replace            COMPLETE\n",
      "CULH49826                          Bellagio                         REMOVE/REPLACE            COMPLETE\n",
      "7018836002DWY                      Mandalay Bay                     REMOVE/REPLACE            COMPLETE\n",
      "CNBJ33570                          Beau Rivage                      Remove/Replace            COMPLETE\n",
      "CULH49847                          LUXOR                            ADD                       COMPLETE\n",
      "7018836002F0Z                      Mandalay Bay                     REMOVE/REPLACE            COMPLETE\n",
      "CNBCL6T0B0                         Vdara                            Remove/Replace            COMPLETED\n",
      "CNBCM362J1                         MGM RESORTS INTERNATIONAL        REMOVE/REPLACE            COMPLETE\n",
      "7018836002DXB                      Mandalay Bay                     REMOVE/REPLACE            COMPLETE\n",
      "CNBCL730L0                         Vdara                            Remove/Replace            COMPLETED\n",
      "JPCCM411HD                         MGM Corporate                    ADD                       COMPLETE\n",
      "CNBCL730YL                         The Signature                    REMOVE/REPLACE            COMPLETE\n",
      "CUBJ51412                          MGM Grand                        INSTALL                   COMPLETE\n",
      "JPCCM3M2ZP                         MGM RESORTS INTERNATIONAL        REMOVE/REPLACE            COMPLETE\n",
      "JPCCM411H5                         Aria                             ADD                       COMPLETE\n",
      "JPCCLDB08M                         MGM GRAND                        ADD                       COMPLETE\n",
      "SCGFG15458                         1MI2                             Remove/Replace            COMPLETE\n",
      "CNJH47135                          MGM Grand Detroit                REPLACE                   COMPLETE\n",
      "JPCCM3M2XY                         MGM RESORTS INTERNATIONAL        REMOVE/REPLACE            COMPLETE\n",
      "SCGLG48687                         MGM Borgata                      Install / Leave in Place  COMPLETED\n",
      "CNBCL6T012                         Bellagio                         Remove/Replace            COMPLETED\n",
      "SCHEH27738                         MGM Borgata                      Remove/Replace            COMPLETED\n",
      "SCFEH59634                         MGM Borgata                      Remove/Replace            COMPLETED\n",
      "CNBCLC800R                         MGM GRAND                        ADD                       COMPLETE\n",
      "7018836002DW7                      MGM Grand Detroit                REPLACE                   COMPLETE\n",
      "CNBCLCD04L                         MGM Grand                        REMOVE/REPLACE            COMPLETE\n",
      "CNBCL730K8                         Luxor                            Remove/Replace            COMPLETED\n",
      "CUDJ53224                          Bellagio                         REMOVE/REPLACE            COMPLETE\n",
      "SCGAH51017                         95 State Street                  Install                   COMPLETED\n",
      "CUBJ51623                          MGM RESORTS INTERNATIONAL        REMOVE/REPLACE            COMPLETE\n",
      "SCUCH41540                         95 State Street                  Install                   COMPLETED\n",
      "CULH49838                          Aria                             REMOVE/REPLACE            COMPLETE\n",
      "JPCCM3M1NH                         Bellagio                         REMOVE/REPLACE            COMPLETE\n",
      "CUKH48906                          MGM Grand                        REMOVE/REPLACE            COMPLETE\n",
      "7018836002DY0                      NYNY                             REMOVE/REPLACE            COMPLETE\n",
      "CNLH57912                          Bellagio                         REMOVE/REPLACE            COMPLETE\n",
      "CNBCL6T098                         Vdara                            Remove/Replace            COMPLETED\n",
      "SCGLG48653                         MGM Borgata                      Remove/Replace            COMPLETED\n",
      "SCUFG31975                         1MI1                             Remove/Replace            COMPLETE\n",
      "SCGJG35257                         MGM Borgata                      Remove/Replace            COMPLETED\n",
      "JPCCLBB12P                         MGM Grand Detroit                REPLACE                   COMPLETE\n",
      "7018836002DYK                      Mandalay Bay                     REMOVE/REPLACE            COMPLETE\n",
      "SCGJG35279                         MGM Borgata                      Remove/Replace            COMPLETED\n",
      "SCHEH27720                         MGM Borgata                      Remove/Replace            COMPLETED\n",
      "CNIH40400                          Mandalay Bay                     REMOVE/REPLACE            COMPLETE\n",
      "JPCCLDD1H5                         MGM Grand                        REMOVE/REPLACE            COMPLETE\n",
      "SCUGG34230                         MLFT                             Remove/Replace            COMPLETE\n",
      "CUKH48925                          MGM Grand                        REMOVE/REPLACE            COMPLETE\n",
      "CUKH48941                          MGM Grand                        REMOVE/REPLACE            COMPLETE\n",
      "CUJH48276                          MGM Grand                        REMOVE/REPLACE            COMPLETE\n",
      "CNBCL6T036                         Vdara                            Remove/Replace            COMPLETED\n",
      "CNBJ33489                          Beau Rivage                      Remove/Replace            COMPLETE\n",
      "CUKH48873                          MGM Grand                        REMOVE/REPLACE            COMPLETE\n",
      "JPCCM3M2Z6                         MGM RESORTS INTERNATIONAL        REMOVE/REPLACE            COMPLETE\n",
      "JPCCM3M078                         Bellagio                         REMOVE/REPLACE            COMPLETE\n",
      "SCHEH27717                         MGM Borgata                      Remove/Replace            COMPLETED\n",
      "CUKH48913                          MGM Grand                        REMOVE/REPLACE            COMPLETE\n",
      "JPCCM3M2TJ                         MGM GROWTH PROPERTIES LLC        REMOVE/REPLACE            COMPLETE\n",
      "SCUFG31949                         Exec                             Remove/Replace            COMPLETE\n",
      "CUBJ51418                          Bellagio                         REMOVE/REPLACE            COMPLETE\n",
      "DUPLICATE LOCATION DID NOT DEPLOY  BMD2                             Remove/Replace            COMPLETE\n",
      "SCFFH62180                         MGM Borgata                      Remove/Replace            COMPLETED\n",
      "S7018836002DZF                     Mandalay Bay                     REMOVE/REPLACE            COMPLETE\n",
      "SCUFG31988                         BMD2                             Remove/Replace            COMPLETE\n",
      "SCIEH28094                         MGM Borgata                      Remove/Replace            COMPLETED\n",
      "CUDJ53210                          Bellagio                         REMOVE/REPLACE            COMPLETE\n",
      "SCUFG31951                         1BOT                             Remove/Replace            COMPLETE\n",
      "CUKH48935                          MGM Grand                        REMOVE/REPLACE            COMPLETE\n",
      "SCUFG31956                         1BOT                             Remove/Replace            COMPLETE\n",
      "SCUFG31967                         BMD2                             Remove/Replace            COMPLETE\n",
      "CUKH48930                          MGM Grand                        REMOVE/REPLACE            COMPLETE\n",
      "JPCCM3M2YP                         MGM GROWTH PROPERTIES LLC        REMOVE/REPLACE            COMPLETE\n",
      "CNBCM3628Z                         SHADOW CREEK GOLF COURSE         REMOVE/REPLACE            COMPLETE\n",
      "SCGLG48651                         MGM Borgata                      Remove/Replace            COMPLETED\n",
      "CNBCL6T0FS                         Excalibur                        Remove/Replace            COMPLETED\n",
      "SCUFG31980                         1MI2                             Remove/Replace            COMPLETE\n",
      "SCUEG31077                         1BOT                             Remove/Replace            COMPLETE\n",
      "SCGJG35267                         MGM Borgata                      Remove/Replace            COMPLETED\n",
      "CUKH48861                          MGM Grand                        REMOVE/REPLACE            COMPLETE\n",
      "JPCCLDJ0NF                         Bellagio                         REMOVE/REPLACE            COMPLETE\n",
      "CUDJ53214                          Bellagio                         REMOVE/REPLACE            COMPLETE\n",
      "CUKH48860                          MGM Grand                        REMOVE/REPLACE            COMPLETE\n",
      "SCGFG15375                         1                                Remove/Replace            COMPLETE\n",
      "CUBJ51608                          Beau Rivage                      Remove/Replace            COMPLETE\n",
      "JPCCM3M24D                         MGM RESORTS INTERNATIONAL        REMOVE/REPLACE            COMPLETE\n",
      "CNBCL730TV                         Vdara                            Remove/Replace            COMPLETED\n",
      "CNBCL730QZ                         MGM Grand                        Remove/Replace            COMPLETED\n",
      "DUPLICATE DID NOT DEPLOY           BLFT                             Remove/Replace            COMPLETE\n",
      "CUKH48875                          MGM Grand                        REMOVE/REPLACE            COMPLETE\n",
      "SCHEH27719                         MGM Borgata                      Remove/Replace            COMPLETED\n",
      "CUJH48279                          MGM Grand                        REMOVE/REPLACE            COMPLETE\n",
      "CNBCL73139                         Bellagio                         Remove/Replace            COMPLETED\n",
      "CNBCL7314N                         Bellagio                         Remove/Replace            COMPLETED\n",
      "SCUGG34253                         MEZZ                             Remove/Replace            COMPLETE\n",
      "CNBCL730TN                         Vdara                            Remove/Replace            COMPLETED\n",
      "SCGLG48745                         95 State Street                  Install                   COMPLETED\n",
      "SCGLG48804                         MGM Borgata                      Remove/Replace            COMPLETED\n",
      "CNBCLCD02P                         MGM Grand                        REMOVE/REPLACE            COMPLETE\n",
      "JPCCM3M2Y0                         MGM RESORTS INTERNATIONAL        REMOVE/REPLACE            COMPLETE\n",
      "JPCCM3M2XT                         MGM RESORTS INTERNATIONAL        REMOVE/REPLACE            COMPLETE\n",
      "CZDJ48797                          Bellagio                         REMOVE/REPLACE            COMPLETE\n",
      "CNBCLC800Y                         MGM GRAND                        ADD                       COMPLETE\n",
      "JPCCM3M1KG                         MGM CORPORATE                    ADD                       COMPLETE\n",
      "DID NOT DEPLOY                     BMD2                             Remove/Replace            COMPLETE\n",
      "SCGJG35264                         MGM Borgata                      Remove/Replace            COMPLETED\n",
      "DUPLICATE                          BMD2                             Remove/Replace            COMPLETE\n",
      "SCUFG31948                         1MI1                             Remove/Replace            COMPLETE\n",
      "C1LH12201                          MGM CORPORTATE                   ADD                       COMPLETE\n",
      "CUKH48883                          MGM Grand                        REMOVE/REPLACE            COMPLETE\n",
      "SCIEH28084                         MGM Borgata                      Remove/Replace            COMPLETED\n",
      "CUKH48880                          MGM Grand                        REMOVE/REPLACE            COMPLETE\n",
      "SCGLG48431                         MGM Borgata                      Remove/Replace            COMPLETED\n",
      "CNBCLC8018                         MGM GRAND                        ADD                       COMPLETE\n",
      "CUCJ51986                          MGM CORPORATE                    ADD                       COMPLETE\n",
      "JPCCL9B1PM                         MGM Grand                        REMOVE/REPLACE            COMPLETE\n",
      "JPCCLDW1F9                         MGM Resorts International        ADD                       COMPLETE\n",
      "CUKH48938                          MGM Grand                        REMOVE/REPLACE            COMPLETE\n",
      "CUKH48946                          MGM Grand                        REMOVE/REPLACE            COMPLETE\n",
      "C1CJ14103                          Beau Rivage                      Remove/Replace            COMPLETE\n",
      "SCGEH11018                         95 State Street                  Install                   COMPLETED\n",
      "JPCCL9B1NJ                         MGM Grand                        REMOVE/REPLACE            COMPLETE\n",
      "7018836002F0K                      MGM Grand Detroit                REPLACE                   COMPLETE\n",
      "7018836002F09                      Mandalay Bay                     REMOVE/REPLACE            COMPLETE\n",
      "CULH49869                          The Mirage                       REMOVE/REPLACE            COMPLETE\n",
      "CNBCM191SC                         MGM GRAND                        ADD                       COMPLETE\n",
      "CNBCL7310P                         Vdara                            Remove/Replace            COMPLETED\n",
      "SCFFH62105                         95 State Street                  Install                   COMPLETED\n",
      "CUBJ51625                          MGM RESORTS INTERNATIONAL        REMOVE/REPLACE            COMPLETE\n",
      "CNKH55238                          Mandalay Bay                     REMOVE/REPLACE            COMPLETE\n",
      "CNBCL6T03H                         Vdara                            Remove/Replace            COMPLETED\n",
      "SCGJG35324                         MGM Borgata                      Remove/Replace            COMPLETED\n",
      "SCIBH26424                         MGM Borgata                      Remove/Replace            COMPLETED\n",
      "7018836002DXX                      Mandalay Bay                     REMOVE/REPLACE            COMPLETE\n",
      "CNBCLC8019                         MGM GRAND                        ADD                       COMPLETE\n",
      "JPCCL8N1HZ                         MGM Grand                        REMOVE/REPLACE            COMPLETE\n",
      "JPCCM1900Z                         MANDALAY BAY                     ADD                       COMPLETE\n",
      "CNBCL7310X                         Vdara                            Remove/Replace            COMPLETED\n",
      "SCUCH41541                         95 State Street                  Install                   COMPLETED\n",
      "CUJH48280                          MGM Grand                        REMOVE/REPLACE            COMPLETE\n",
      "CULH49857                          The Mirage                       REMOVE/REPLACE            COMPLETE\n",
      "CUBJ51622                          Beau Rivage                      Remove/Replace            COMPLETE\n",
      "7018836002F0X                      Mandalay Bay                     REMOVE/REPLACE            COMPLETE\n",
      "CNBCL6405Q                         Vdara                            Remove/Replace            COMPLETED\n",
      "CULH49871                          The Mirage                       REMOVE/REPLACE            COMPLETE\n",
      "CUCJ51984                          MGM CORPORATE                    ADD                       COMPLETE\n",
      "CNBJ33565                          Beau Rivage                      Remove/Replace            COMPLETE\n",
      "SCGJG35288                         MGM Borgata                      Remove/Replace            COMPLETED\n",
      "7018836002DYB                      Mandalay Bay                     REMOVE/REPLACE            COMPLETE\n",
      "7018836002F0G                      MGM Grand Detroit                REPLACE                   COMPLETE\n",
      "SCGJG35263                         MGM Borgata                      Remove/Replace            COMPLETED\n",
      "SCGLG48440                         MGM Borgata                      Remove/Replace            COMPLETED\n",
      "SCUGG34247                         MLFT                             Remove/Replace            COMPLETE\n",
      "CUAJ50639                          MGM RESORTS INTERNATIONAL        REMOVE/REPLACE            COMPLETE\n",
      "SCUFG31974                         BBOT                             Remove/Replace            COMPLETE\n",
      "CNBCL64067                         Luxor                            Remove/Replace            COMPLETED\n",
      "SCUFG31964                         AD                               Remove/Replace            COMPLETE\n",
      "SCUGH45366                         The Signature                    REMOVE/REPLACE            COMPLETE\n",
      "JPCCM3M23G                         MGM RESORTS INTERNATIONAL        REMOVE/REPLACE            COMPLETE\n",
      "CNBCL7804B                         Mirage                           Remove/Replace            COMPLETED\n",
      "CNBCL6T03T                         Bellagio                         Remove/Replace            COMPLETED\n",
      "SCUFG31965                         1MI2                             Remove/Replace            COMPLETE\n",
      "SCGLG48733                         95 State Street                  Install                   COMPLETED\n",
      "7018836002DWL                      Mandalay Bay                     REMOVE/REPLACE            COMPLETE\n",
      "CZCJ45010                          GRAND LAUNDRY                    REMOVE/REPLACE            COMPLETE\n",
      "SSFFG70236 DID NOT DEPLOY          BLFT                             Remove/Replace            COMPLETE\n",
      "SCFFH62112                         MGM Borgata                      Install / Leave in Place  COMPLETED\n",
      "SCUCH41522                         95 State Street                  Install                   COMPLETED\n",
      "CNBCL6T09C                         Excalibur                        Remove/Replace            COMPLETED\n",
      "JPCCM3M1MJ                         Bellagio                         REMOVE/REPLACE            COMPLETE\n",
      "JPCCM3M2YZ                         MGM RESORTS INTERNATIONAL        REMOVE/REPLACE            COMPLETE\n",
      "JPCCL9B1KD                         MGM Grand                        REMOVE/REPLACE            COMPLETE\n",
      "CUKH48877                          MGM Grand                        REMOVE/REPLACE            COMPLETE\n",
      "CZBJ43881                          Beau Rivage                      Remove/Replace            COMPLETE\n",
      "CULH49849                          MGM PARK                         ADD                       COMPLETE\n",
      "SCHBH25518                         95 State Street                  Install                   COMPLETED\n",
      "CUKH48920                          MGM Grand                        REMOVE/REPLACE            COMPLETE\n",
      "SCFFH62174                         95 State Street                  Install                   COMPLETED\n",
      "CUKH48924                          MGM Grand                        REMOVE/REPLACE            COMPLETE\n",
      "CUKH48914                          MGM Grand                        REMOVE/REPLACE            COMPLETE\n",
      "CNBCM3628V                         MGM RESORTS INTERNATIONAL        REMOVE/REPLACE            COMPLETE\n",
      "CZBJ43759                          Beau Rivage                      Remove/Replace            COMPLETE\n",
      "SCUFG31943                         1MI2                             Remove/Replace            COMPLETE\n",
      "7018836002DWW                      Mandalay Bay                     REMOVE/REPLACE            COMPLETE\n",
      "SCHEH27737                         MGM Borgata                      Remove/Replace            COMPLETED\n",
      "CUKH48926                          MGM Grand                        REMOVE/REPLACE            COMPLETE\n",
      "SCUHG34984                         1                                Remove/Replace            COMPLETE\n",
      "7018836002DYT                      Mandalay Bay                     REMOVE/REPLACE            COMPLETE\n",
      "SCGIG31454                         MGM Borgata                      Remove/Replace            COMPLETED\n",
      "CUKH48907                          MGM Grand                        REMOVE/REPLACE            COMPLETE\n",
      "SCUFG31955                         BMD2                             Remove/Replace            COMPLETE\n",
      "CNBCL7310D                         Bellagio                         Remove/Replace            COMPLETED\n",
      "SCGIG31460                         MGM Borgata                      Remove/Replace            COMPLETED\n",
      "CUKH48950                          The Mirage                       REMOVE/REPLACE            COMPLETE\n",
      "CUBJ51604                          Beau Rivage                      Remove/Replace            COMPLETE\n",
      "SCUFG31944                         BMD2                             Remove/Replace            COMPLETE\n",
      "CUKH48897                          MGM Grand                        REMOVE/REPLACE            COMPLETE\n",
      "CNBJ33490                          Beau Rivage                      Remove/Replace            COMPLETE\n",
      "CUBJ51419                          MGM GRAND FAMILY MEDICAL CENTER  REMOVE/REPLACE            COMPLETE\n",
      "CULH49798                          The Mirage                       REMOVE/REPLACE            COMPLETE\n",
      "SCGLG48439                         MGM Borgata                      Remove/Replace            COMPLETED\n",
      "SCUFG31969                         Exec                             Remove/Replace            COMPLETE\n",
      "CUBJ51432                          Vdara                            REMOVE/REPLACE            COMPLETE\n",
      "SCUCH41517                         95 State Street                  Install                   COMPLETED\n",
      "SCIKG24308                         MGM Borgata                      Remove/Replace            COMPLETED\n",
      "SCGLG48443                         MGM Borgata                      Remove/Replace            COMPLETED\n",
      "SCUFG31991                         BBOT                             Remove/Replace            COMPLETE\n",
      "SCGLG48446                         MGM Borgata                      Remove/Replace            COMPLETED\n",
      "CUBJ51632                          MGM RESORTS INTERNATIONAL        REMOVE/REPLACE            COMPLETE\n",
      "CZBJ44046                          MGM RESORTS INTERNATIONAL        REMOVE/REPLACE            COMPLETE\n",
      "CNBJ33487                          Beau Rivage                      Remove/Replace            COMPLETE\n",
      "CNLH57919                          Aria                             REMOVE/REPLACE            COMPLETE\n",
      "SCUHG35590                         95 State Street                  Install                   COMPLETED\n"
     ]
    }
   ],
   "source": [
    "\n",
    "if src3 and src2:\n",
    "    print(color.UNDERLINE +'\\nList comparison:' + color.END + ' If any devices are listed below, they are in... \\n'  + \\\n",
    "         \" • \" + \"\" + color.GREEN + src3 + color.END + \" but are... \\n\" + \\\n",
    "         \" • \" +  color.BOLD + color.RED + \"Missing from \" + src2 + color.END)\n",
    "    ros_found_in_ps = check_and_list_missing_serials_in_lists(ros_data_filtered_for_ps, pagesmart_devices_unique_device_serials)\n"
   ]
  },
  {
   "cell_type": "markdown",
   "metadata": {},
   "source": [
    "## Missing Records - Find/List Missing Serials PART 3"
   ]
  },
  {
   "cell_type": "code",
   "execution_count": 60,
   "metadata": {},
   "outputs": [],
   "source": [
    "\n",
    "if src1 and src3:\n",
    "    print(color.UNDERLINE +'\\nList comparison:' + color.END + ' If any devices are listed below, they are in... \\n'  + \\\n",
    "         \" • \" + \"\" + color.GREEN + src1 + color.END + \" but are... \\n\" + \\\n",
    "         \" • \" +  color.BOLD + color.RED + \"Missing from \" + src3 + color.END)\n",
    "\n",
    "    ib_found_in_ps = check_and_list_missing_serials_in_lists(ib_data_filtered, ros_devices_unique_device_serials)\n"
   ]
  },
  {
   "cell_type": "markdown",
   "metadata": {},
   "source": [
    "## Missing Records - Find/List Missing Serials PART 4"
   ]
  },
  {
   "cell_type": "code",
   "execution_count": 61,
   "metadata": {},
   "outputs": [
    {
     "name": "stdout",
     "output_type": "stream",
     "text": [
      "\u001b[4m\n",
      "List comparison:\u001b[0m If any devices are listed below, they are in... \n",
      " • \u001b[92mMGM Project ROS Summary.csv\u001b[0m but are... \n",
      " • \u001b[1m\u001b[91mMissing from MGM Billing 8.27.2019.csv\u001b[0m\n",
      "\u001b[4m\n",
      "Comparison stats:\n",
      "\u001b[0m • Quantity of primary lists' entries: 1721\n",
      " • Matches found: 1697\n",
      " • Total Missing: 24 \n",
      "\u001b[1mPlease investigate then add applicable record(s). Some Key fields: \n",
      "\u001b[0m\n",
      "serial_number                      Primary        ACTION          STATUS for Delivery / Installation\n",
      "---------------------------------  -------------  --------------  ------------------------------------\n",
      "CUDJ53207                          Bellagio       REMOVE/REPLACE  COMPLETE\n",
      "CULH49853                          MGM Park       ADD             COMPLETE\n",
      "SCGGG21734                         1MI1           Remove/Replace  COMPLETE\n",
      "NOT BEING DELIVERED                1BOT           Remove/Replace  COMPLETE\n",
      "CUDJ53216                          Bellagio       REMOVE/REPLACE  COMPLETE\n",
      "CUDJ53213                          Bellagio       REMOVE/REPLACE  COMPLETE\n",
      "CZBJ44027                          Beau Rivage    Remove/Replace  COMPLETE\n",
      "CUDJ53209                          Bellagio       REMOVE/REPLACE  COMPLETE\n",
      "C1BJ13535                          MGM CORPORATE  ADD             COMPLETE\n",
      "CUKH48936                          MGM Grand      REMOVE/REPLACE  COMPLETE\n",
      "CZCJ48210                          Beau Rivage    Remove/Replace  COMPLETE\n",
      "CNLH59709                          Beau Rivage    Remove/Replace  COMPLETE\n",
      "DUPLICATE LOCATION DID NOT DEPLOY  BMD2           Remove/Replace  COMPLETE\n",
      "CUDJ53238                          Bellagio       REMOVE/REPLACE  COMPLETE\n",
      "CUDJ53214                          Bellagio       REMOVE/REPLACE  COMPLETE\n",
      "CNBJ32983                          MGM CORPORATE  ADD             COMPLETE\n",
      "DUPLICATE DID NOT DEPLOY           BLFT           Remove/Replace  COMPLETE\n",
      "DID NOT DEPLOY                     BMD2           Remove/Replace  COMPLETE\n",
      "DUPLICATE                          BMD2           Remove/Replace  COMPLETE\n",
      "CNBJ32866                          MGM CORPORATE  ADD             COMPLETE\n",
      "CUDJ53223                          Bellagio       REMOVE/REPLACE  COMPLETE\n",
      "SSFFG70236 DID NOT DEPLOY          BLFT           Remove/Replace  COMPLETE\n",
      "CZAJ37217                          Aria           ADD             COMPLETE\n",
      "CUDJ53235                          Bellagio       REMOVE/REPLACE  COMPLETE\n"
     ]
    }
   ],
   "source": [
    "if src3 and src5:\n",
    "    print(color.UNDERLINE +'\\nList comparison:' + color.END + ' If any devices are listed below, they are in... \\n'  + \\\n",
    "         \" • \" + \"\" + color.GREEN + src3 + color.END + \" but are... \\n\" + \\\n",
    "         \" • \" +  color.BOLD + color.RED + \"Missing from \" + src5 + color.END)\n",
    "\n",
    "    ros_found_in_billing = check_and_list_missing_serials_in_lists(ros_data_filtered_for_ps, billing_devices_unique_device_serials)\n"
   ]
  },
  {
   "cell_type": "markdown",
   "metadata": {},
   "source": [
    "## Deeper dive into IB FUNCTION"
   ]
  },
  {
   "cell_type": "code",
   "execution_count": 62,
   "metadata": {},
   "outputs": [
    {
     "name": "stdout",
     "output_type": "stream",
     "text": [
      "I did the thing!\n"
     ]
    }
   ],
   "source": [
    "#comparison function between two lists \n",
    "def found_and_missing_devices(list_a, list_b):\n",
    "    \"\"\"\n",
    "    #####################################\n",
    "        Takes in two lists (each list is a list of dicts for a devices e.g. serial_number key to asdf1234 value)\n",
    "            and compares them to each other finding matches and \"not_found\" based on serial_number.\n",
    "        Args: \n",
    "            list_a - entries to be check, return values are based on these entries\n",
    "            list_b - entires to check against\n",
    "        Returns:\n",
    "            found_matches - a list of entries from list_a that were found in list_b based on serial_number\n",
    "            not_found - a list of entries from list_a that were NOT found in list_b based on serial_number\n",
    "    #####################################\n",
    "    \"\"\"\n",
    "    #Print output \n",
    "    print(color.UNDERLINE +'\\nComparison stats:\\n' + color.END + \\\n",
    "     \" • \" + 'Quantity of primary lists\\' entries: ' + str(len(list_a)))\n",
    "\n",
    "    found_matches = list()\n",
    "    not_found = list()\n",
    "    for device in list_a:\n",
    "        device_serial = device['serial_number'] \n",
    "        if check_serial_silly_s(device_serial, list_b):\n",
    "            found_matches.append()\n",
    "            continue\n",
    "        else:\n",
    "            not_found.append(device)\n",
    "            \n",
    "    #Print output         \n",
    "    print(\" • \" + 'Matches found: ' + str(len(found_matches)))\n",
    "\n",
    "    if (not_found):\n",
    "        output_sample_records(not_found)\n",
    "\n",
    "    return found_matches, not_found\n",
    "\n",
    "print(\"I did the thing!\")"
   ]
  },
  {
   "cell_type": "markdown",
   "metadata": {},
   "source": [
    "## IB DEEPER DIVE - Import full list of IB serials"
   ]
  },
  {
   "cell_type": "code",
   "execution_count": 63,
   "metadata": {},
   "outputs": [],
   "source": [
    "## Deeper dive with full IB Serial list using NumPy\n",
    "import pandas as pd\n",
    "import numpy as np\n",
    "if src4 and src1: \n",
    "    full_ib_serials = np.array(pd.read_csv(src4))\n",
    "    print (full_ib_serials.dtype)\n",
    "    print(full_ib_serials[0])\n"
   ]
  },
  {
   "cell_type": "markdown",
   "metadata": {},
   "source": [
    "## IB DEEPER DIVE - Output list of serials found in project but not found in IB Customer nor IB Full.  TOTALLY MISSING FROM IB."
   ]
  },
  {
   "cell_type": "code",
   "execution_count": 64,
   "metadata": {
    "jupyter": {
     "outputs_hidden": true
    },
    "scrolled": true
   },
   "outputs": [],
   "source": [
    "if src4 and src1: \n",
    "    print(\"There were the following number NOT found in IB: \", len(ros_found_in_ib[1]))\n",
    "    devices_missing_vs_found_in_full_ib = check_and_list_missing_serials_in_lists(ros_found_in_ib[1],full_ib_serials)"
   ]
  },
  {
   "cell_type": "markdown",
   "metadata": {
    "jupyter": {
     "outputs_hidden": true
    }
   },
   "source": [
    "## IB DEEPER DIVE - Record accuracy issue - Found in full IB data but NOT customer-number IB"
   ]
  },
  {
   "cell_type": "code",
   "execution_count": 65,
   "metadata": {},
   "outputs": [
    {
     "name": "stdout",
     "output_type": "stream",
     "text": [
      "Please investigate then correct issues for these record(s). Some Key fields: \n",
      "\n"
     ]
    }
   ],
   "source": [
    "print(\"Please investigate then correct issues for these record(s). Some Key fields: \\n\")\n",
    "\n",
    "# variables: devices_missing_vs_found_in_full_ib [0=found in previous comparison, 1=not found]\n",
    "# We want to list the IB details about the ones found. Total list found in devices_missing_vs_found_in_full_ib[0]\n",
    "if src4 and src1: \n",
    "    if (devices_missing_vs_found_in_full_ib[0]):\n",
    "        output_sample_records(devices_missing_vs_found_in_full_ib[0])\n",
    "\n"
   ]
  },
  {
   "cell_type": "markdown",
   "metadata": {
    "jupyter": {
     "outputs_hidden": true
    }
   },
   "source": [
    "## IB DEEPER DIVE - Import full IB BRIEF list to get more IB information (resource heavy operation)"
   ]
  },
  {
   "cell_type": "code",
   "execution_count": 66,
   "metadata": {},
   "outputs": [],
   "source": [
    "## Deeper dive with full IB Serial list using NumPy\n",
    "if src6 and src1:\n",
    "    full_ib_brief_serials = np.array(pd.read_csv(src6))\n",
    "    print (full_ib_brief_serials.dtype)\n",
    "    print(full_ib_brief_serials[0])\n",
    "    print ('I did the thing!)')"
   ]
  },
  {
   "cell_type": "markdown",
   "metadata": {
    "jupyter": {
     "outputs_hidden": true
    }
   },
   "source": [
    "## IB DEEPER DIVE: Output IB data found in project but not customer-IB. i.e. Same as above but with data from IB instead of project. (resource heavy operation)"
   ]
  },
  {
   "cell_type": "code",
   "execution_count": 67,
   "metadata": {
    "jupyter": {
     "outputs_hidden": true
    }
   },
   "outputs": [
    {
     "name": "stdout",
     "output_type": "stream",
     "text": [
      "Please investigate then correct issues for these record(s). Some Key fields: \n",
      "\n"
     ]
    }
   ],
   "source": [
    "print(\"Please investigate then correct issues for these record(s). Some Key fields: \\n\")\n",
    "if src6 and src1: \n",
    "    if (devices_missing_vs_found_in_full_ib[0]):\n",
    "        rows = list()\n",
    "        #Print output         \n",
    "        print (\" • \" + 'Total Found with issue: ' + str(len(devices_missing_vs_found_in_full_ib[0])) + \" \\n\" \\\n",
    "        + color.BOLD + \"Please investigate then correct applicable record(s). Some Key fields: \\n\" + color.END)\n",
    "        print(\"These may not have known customer nubmers: T0BS49A, T0BUQW1, T0BV7VF, T0BVMSY\")\n",
    "        print(\"Ken's Observation on customer numbers: 506502, 507534, 640983\")\n",
    "    \n",
    "    #Check if IB headers exist and then output\n",
    "    headers = ('serial_number','INSTALL_DATE','CUSTOMER_REFERENCE','CUSTOMER_NAME', \"CUSTOMER_LOCATION_ADDRESS_1\")\n",
    "    for entry in devices_missing_vs_found_in_full_ib[0]:\n",
    "        for ib_entry in full_ib_brief_serials:\n",
    "            if entry['serial_number'] == ib_entry[5]:\n",
    "                rows.append([ib_entry[5], ib_entry[0], ib_entry[1],\n",
    "                             ib_entry[2], ib_entry[3]])\n",
    "                break\n",
    "\n",
    "    print(tabulate(rows, headers))"
   ]
  },
  {
   "cell_type": "markdown",
   "metadata": {},
   "source": [
    "## Summary of Devices Found vs. Not-Found between Various Databases"
   ]
  },
  {
   "cell_type": "code",
   "execution_count": 69,
   "metadata": {
    "jupyter": {
     "outputs_hidden": true
    }
   },
   "outputs": [
    {
     "name": "stdout",
     "output_type": "stream",
     "text": [
      "Project Devices Installed: 1721\n",
      "\n",
      " • Project Devices found in the Billing file: 1697\n",
      " • And those not found: 24\n",
      "\n",
      " • Project Devices found in PageSmart: 1421\n",
      " • And those not found: 300\n",
      "\n",
      "Installed Base (Oracle) Devices pulled using customer numbers:  ('T0BS49A', 'T0BUQW1', 'T0BV7VF', 'T0BVMSY')\n"
     ]
    }
   ],
   "source": [
    "print(\"Project Devices Installed: \" + str(len(ros_devices_unique_device_serials)))\n",
    "\n",
    "print(\"\\n • \" + \"Project Devices found in the Billing file: \" + str(len(ros_found_in_billing[0])) + \\\n",
    "\"\\n • \" + \"And those not found: \" +  str(len(ros_found_in_billing[1]))) if src5 and src3 else None\n",
    "\n",
    "print( \"\\n • \" + \"Project Devices found in PageSmart: \" + str(len(ros_found_in_ps[0])) + \\\n",
    "\"\\n • \" + \"And those not found: \" +  str(len(ros_found_in_ps[1])) ) if src2 and src3 else None\n",
    "\n",
    "\n",
    "print( \"\\n • \" + \"Project Devices found in IB (Oracle Installed Base): \" + str(len(ros_found_in_ib[0])) + \\\n",
    "\"\\n • \" + \"And those not found: \" +  str(len(ros_found_in_ib[1])) ) if src1 and src3 else None\n",
    "\n",
    "print(\"\\n   • \" + \"Of which were found in IB with data issue: \" + str(len(devices_missing_vs_found_in_full_ib[0])) + \\\n",
    "\"\\n   • \" + \"And those not found at all: \" +  str(len(devices_missing_vs_found_in_full_ib[1])) ) if src4 and src1 else None\n",
    "\n",
    "\n",
    "print(\"\\nInstalled Base (Oracle) Devices pulled using customer numbers: \", cust_numbers )\n",
    "\n",
    "print(\"Installed Base (Oracle) Devices: \" + str(len(ib_devices_unique_device_serials)) + \\\n",
    "    \"\\n • \" + \"IB Devices found in PageSmart: \" + str(len(ib_found_in_ps[0])) + \\\n",
    "    \"\\n • \" + \"And those not found: \" +  str(len(ib_found_in_ps[1])) ) if src1 and src2 else None\n"
   ]
  },
  {
   "cell_type": "markdown",
   "metadata": {
    "jupyter": {
     "outputs_hidden": true
    }
   },
   "source": [
    "## Export Spreadsheet"
   ]
  },
  {
   "cell_type": "code",
   "execution_count": null,
   "metadata": {
    "jupyter": {
     "outputs_hidden": true
    }
   },
   "outputs": [],
   "source": [
    "# with open(\"exported_spreadsheet.csv\", 'w', newline='') as myfile:\n",
    "#      wr = csv.writer(myfile, quoting=csv.QUOTE_ALL)\n",
    "#      wr.writerow(ros_found_in_billing[1])\n",
    "    \n",
    "# np.savetxt(\"file_name.csv\", ros_found_in_billing[1], delimiter=\",\", fmt='%s', header=header)\n",
    "\n",
    "# print(ros_found_in_billing[1][0].keys())\n",
    "\n",
    "# toCSV = [ros_found_in_billing[1]]\n",
    "# keys = ros_found_in_billing[1][0].keys()\n",
    "# with open('people.csv', 'wb') as output_file:\n",
    "#     dict_writer = newline.DictWriter(output_file, keys)\n",
    "#     dict_writer.writeheader()\n",
    "#     dict_writer.writerows(toCSV)\n",
    "\n",
    "# import pandas\n",
    "# dataframe = pandas.read_csv(\"exported_spreadsheet.csv\")\n",
    "# list_of_dictionaries = dataframe.to_dict(ros_found_in_billing[1])\n",
    "# dataframe.to_csv(\"exported_spreadsheet.csv\")\n",
    "\n",
    "# with open ('list.csv', 'w') as f:\n",
    "#     for dict in ros_found_in_billing[1]:\n",
    "#         for key, value in dict.items():\n",
    "#             text = key+','+value+'\\n'\n",
    "#             f.writelines(text)\n",
    "\n",
    "# keys = [i for s in [d.keys() for d in ros_found_in_billing[1]] for i in s]\n",
    "\n",
    "# with open('test.csv', 'a') as output_file:\n",
    "#     dict_writer = csv.DictWriter(output_file, restval=\"-\", fieldnames=keys, delimiter='@')\n",
    "#     dict_writer.writeheader()\n",
    "#     dict_writer.writerows(ros_found_in_billing[1])\n",
    "\n",
    "# keys = [i for s in [d.keys() for d in ros_found_in_billing[1]] for i in s]\n",
    "# f = open(\"sample.csv\", \"w\")\n",
    "# writer = csv.DictWriter(\n",
    "#     f, fieldnames=keys)\n",
    "# writer.writeheader()\n",
    "# writer.writerows(ros_found_in_billing[1])\n",
    "# f.close()"
   ]
  },
  {
   "cell_type": "markdown",
   "metadata": {},
   "source": [
    "## next topic"
   ]
  },
  {
   "cell_type": "code",
   "execution_count": null,
   "metadata": {
    "jupyter": {
     "outputs_hidden": true
    }
   },
   "outputs": [],
   "source": []
  },
  {
   "cell_type": "markdown",
   "metadata": {},
   "source": [
    "## next topic"
   ]
  },
  {
   "cell_type": "code",
   "execution_count": null,
   "metadata": {
    "jupyter": {
     "outputs_hidden": true
    }
   },
   "outputs": [],
   "source": []
  },
  {
   "cell_type": "markdown",
   "metadata": {},
   "source": [
    "## next topic"
   ]
  },
  {
   "cell_type": "code",
   "execution_count": null,
   "metadata": {
    "jupyter": {
     "outputs_hidden": true
    }
   },
   "outputs": [],
   "source": []
  },
  {
   "cell_type": "markdown",
   "metadata": {},
   "source": [
    "## next topic"
   ]
  },
  {
   "cell_type": "code",
   "execution_count": null,
   "metadata": {
    "jupyter": {
     "outputs_hidden": true
    }
   },
   "outputs": [],
   "source": []
  },
  {
   "cell_type": "markdown",
   "metadata": {},
   "source": [
    "## next topic"
   ]
  },
  {
   "cell_type": "code",
   "execution_count": null,
   "metadata": {
    "jupyter": {
     "outputs_hidden": true
    }
   },
   "outputs": [],
   "source": []
  },
  {
   "cell_type": "markdown",
   "metadata": {},
   "source": [
    "## next topic"
   ]
  },
  {
   "cell_type": "code",
   "execution_count": null,
   "metadata": {
    "jupyter": {
     "outputs_hidden": true
    }
   },
   "outputs": [],
   "source": []
  },
  {
   "cell_type": "markdown",
   "metadata": {},
   "source": [
    "## next topic"
   ]
  },
  {
   "cell_type": "code",
   "execution_count": null,
   "metadata": {
    "jupyter": {
     "outputs_hidden": true
    }
   },
   "outputs": [],
   "source": []
  },
  {
   "cell_type": "code",
   "execution_count": null,
   "metadata": {},
   "outputs": [],
   "source": []
  }
 ],
 "metadata": {
  "celltoolbar": "Raw Cell Format",
  "kernelspec": {
   "display_name": "Python 3",
   "language": "python",
   "name": "python3"
  },
  "language_info": {
   "codemirror_mode": {
    "name": "ipython",
    "version": 3
   },
   "file_extension": ".py",
   "mimetype": "text/x-python",
   "name": "python",
   "nbconvert_exporter": "python",
   "pygments_lexer": "ipython3",
   "version": "3.7.3"
  }
 },
 "nbformat": 4,
 "nbformat_minor": 4
}
